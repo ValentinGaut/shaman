{
 "cells": [
  {
   "cell_type": "markdown",
   "metadata": {},
   "source": [
    "# Using `bbo` for auto-tuning of Machine Learning models\n",
    "\n",
    "In this example, we will use `bbo` as a stand-alone black-box optimization library to find the optimum hyper-parameters (a *Support Vector Machine* and a *RandomForestClassifier*) for two Machine Learning models, on the `breast_cancer` dataset."
   ]
  },
  {
   "cell_type": "markdown",
   "metadata": {},
   "source": [
    "## Loading the dataset\n",
    "The [`breast_cancer` dataset](https://scikit-learn.org/stable/datasets/index.html#breast-cancer-dataset) is a classic and very easy binary classification dataset. We will use it as an example for tuning the models. After loading the data, we will use the `train_test_split` function to divide the dataset into a train dataset (that we will train the model on) and a test dataset (where we will evaluate the model on to get its accuracy on unseen data). As `bbo` is a *minimizer*, we will use the opposite value of the accuracy as a training target."
   ]
  },
  {
   "cell_type": "code",
   "execution_count": 1,
   "metadata": {},
   "outputs": [],
   "source": [
    "from sklearn.datasets import load_breast_cancer\n",
    "from sklearn.model_selection import train_test_split\n",
    "\n",
    "data = load_breast_cancer()\n",
    "\n",
    "X_train, X_test, y_train, y_test = train_test_split(data[\"data\"], data[\"target\"], test_size=0.33, random_state=42)"
   ]
  },
  {
   "cell_type": "markdown",
   "metadata": {},
   "source": [
    "## Design black-box class\n",
    "To use `bbo`, we need to design two classes that act as black-box that can be tuned: they have a `compute` method that takes as input a parametrization, trains the model using this parametrization on the train data, evaluates the model on the test data and return the opposite of the accuracy.\n",
    "\n",
    "We will tune two sklearn models:\n",
    "- [SVM](https://scikit-learn.org/stable/modules/generated/sklearn.svm.SVC.html#sklearn.svm.SVC): we will look for the optimum value of:\n",
    "    * C\n",
    "    * kernel\n",
    "    * degree\n",
    "    * gamma\n",
    "    * coef0\n",
    "    * shrinking\n",
    "    * probability\n",
    "    * tol\n",
    " \n",
    "- [Random forest](https://scikit-learn.org/stable/modules/generated/sklearn.ensemble.RandomForestClassifier.html?highlight=random%20forest#sklearn.ensemble.RandomForestClassifier): we will look for the optimum of:\n",
    "    * n_estimators\n",
    "    * criterion\n",
    "    * max_depth\n",
    "    * min_samples_split\n",
    "    * min_weight_fraction_leaf\n",
    "    * max_features\n",
    "    \n",
    " For each model, we will define the class with the `compute` method and the corresponding `parametric_grid` (*i.e* the values that can be tested by the optimizer)."
   ]
  },
  {
   "cell_type": "code",
   "execution_count": 2,
   "metadata": {},
   "outputs": [],
   "source": [
    "from sklearn.svm import SVC\n",
    "from sklearn.ensemble import RandomForestClassifier\n",
    "import numpy as np"
   ]
  },
  {
   "cell_type": "code",
   "execution_count": 3,
   "metadata": {},
   "outputs": [],
   "source": [
    "class OptimizableSVM:\n",
    "    \"\"\"\n",
    "    Optimizable class to find the optimal parametrization of a SVM model.\n",
    "    \"\"\"\n",
    "    def compute(self, parameters):\n",
    "        \"\"\"\n",
    "        Outputs the cross validation score for the model.\n",
    "        \"\"\"\n",
    "        parameters_dict = {\"C\": float(parameters[0]), \"kernel\": str(parameters[1]), \"degree\": int(parameters[2]), \"gamma\": str(parameters[3]), \"coef0\": float(parameters[4]), \"shrinking\": bool(parameters[5]), \"probability\": bool(parameters[6]), \"tol\": float(parameters[7])}\n",
    "        svc = SVC(**parameters_dict)\n",
    "        svc.fit(X_train, y_train)\n",
    "        return -svc.score(X_test, y_test)\n",
    "    \n",
    "# Define parametric grid\n",
    "c = np.arange(1, 100, 1)\n",
    "kernel = np.array([\"linear\", \"poly\", \"rbf\", \"sigmoid\"])\n",
    "degree = np.arange(1, 4, 1)\n",
    "gamma = np.array(['scale', 'auto'])\n",
    "coef = np.arange(0, 1, 0.01)\n",
    "shrinking = np.array([True, False])\n",
    "probability = np.array([True, False])\n",
    "tol = np.arange(0.01, 0.1, 0.01)\n",
    "\n",
    "svm_parametric_grid = np.array([c, kernel, degree, gamma, coef, shrinking, probability, tol], dtype=object)"
   ]
  },
  {
   "cell_type": "code",
   "execution_count": 4,
   "metadata": {},
   "outputs": [],
   "source": [
    "class OptimizableRandomForest:\n",
    "    \"\"\"\n",
    "    Model that will act as a black-box.\n",
    "    \"\"\"\n",
    "    def compute(self, parameters):\n",
    "        parameters_dict = {\"n_estimators\": int(parameters[0]), \"criterion\": str(parameters[1]), \"max_depth\": float(parameters[2]), \"min_samples_split\": int(parameters[3]), \"min_weight_fraction_leaf\":float(parameters[4]), \"max_features\": str(parameters[5])}\n",
    "        random_forest = RandomForestClassifier(**parameters_dict)\n",
    "        random_forest.fit(X_train, y_train)\n",
    "        return -random_forest.score(X_test, y_test)\n",
    "\n",
    "n_estimators = np.arange(50, 200, 20)\n",
    "criterion = np.array([\"gini\", \"entropy\"])\n",
    "max_depth = np.arange(5, 10, 1)\n",
    "min_samples_split = np.arange(2, 10, 1)\n",
    "min_weight_fraction_leaf = np.arange(0, 0.4, 0.1)\n",
    "max_features = np.array([\"auto\", \"sqrt\", \"log2\"])\n",
    "\n",
    "rf_parametric_grid = np.array([n_estimators, criterion, max_depth, min_samples_split, min_weight_fraction_leaf, max_features], dtype=object)"
   ]
  },
  {
   "cell_type": "markdown",
   "metadata": {},
   "source": [
    "## Setup optimizer\n",
    "We then need to set-up the optimizer. As **they are currently the only heuristic that support qualitative variable**, we will use genetic algorithms, with single point crossovers and a tournament pick. The mutation rate is set to 0.3. We will have 5 initial data points, for a maximum of 20 iterations."
   ]
  },
  {
   "cell_type": "code",
   "execution_count": 5,
   "metadata": {},
   "outputs": [],
   "source": [
    "from bbo.optimizer import BBOptimizer\n",
    "from bbo.heuristics.genetic_algorithm.mutations import mutate_chromosome_to_neighbor\n",
    "from bbo.heuristics.genetic_algorithm.selections import tournament_pick \n",
    "from bbo.heuristics.genetic_algorithm.crossover import single_point_crossover"
   ]
  },
  {
   "cell_type": "code",
   "execution_count": 6,
   "metadata": {},
   "outputs": [],
   "source": [
    "svm_model = OptimizableSVM()\n",
    "svm_bb = BBOptimizer(black_box = svm_model, # the black-box to optimize\n",
    "                     parameter_space = svm_parametric_grid, # the grid on which to perform the optimization\n",
    "                     initial_sample_size=10,# the initial size of the sample\n",
    "                     heuristic=\"genetic_algorithm\", # the name of the heuristics to use\n",
    "                     max_iteration=20, # the maximum number of iterations\n",
    "                     time_out=200, # in seconds, the maximum elapsed time\n",
    "                     # the following arguments are specific to genetic algorithms:\n",
    "                     mutation_method= mutate_chromosome_to_neighbor, # the mutation function\n",
    "                     mutation_rate=0.3,#the mutation rate\n",
    "                     crossover_method=single_point_crossover, # the crossover function\n",
    "                     selection_method=tournament_pick # the selection function\n",
    "                     ) "
   ]
  },
  {
   "cell_type": "code",
   "execution_count": 7,
   "metadata": {
    "scrolled": false
   },
   "outputs": [
    {
     "name": "stderr",
     "output_type": "stream",
     "text": [
      "2020-11-07 20:19:31.187 | DEBUG    | bbo.optimizer:_initialize:487 - Initializing parameter space\n",
      "2020-11-07 20:19:31.200 | DEBUG    | bbo.optimizer:_initialize:488 - Parameter space given by user: [array([ 1,  2,  3,  4,  5,  6,  7,  8,  9, 10, 11, 12, 13, 14, 15, 16, 17,\n",
      "       18, 19, 20, 21, 22, 23, 24, 25, 26, 27, 28, 29, 30, 31, 32, 33, 34,\n",
      "       35, 36, 37, 38, 39, 40, 41, 42, 43, 44, 45, 46, 47, 48, 49, 50, 51,\n",
      "       52, 53, 54, 55, 56, 57, 58, 59, 60, 61, 62, 63, 64, 65, 66, 67, 68,\n",
      "       69, 70, 71, 72, 73, 74, 75, 76, 77, 78, 79, 80, 81, 82, 83, 84, 85,\n",
      "       86, 87, 88, 89, 90, 91, 92, 93, 94, 95, 96, 97, 98, 99])\n",
      " array(['linear', 'poly', 'rbf', 'sigmoid'], dtype='<U7') array([1, 2, 3])\n",
      " array(['scale', 'auto'], dtype='<U5')\n",
      " array([0.  , 0.01, 0.02, 0.03, 0.04, 0.05, 0.06, 0.07, 0.08, 0.09, 0.1 ,\n",
      "       0.11, 0.12, 0.13, 0.14, 0.15, 0.16, 0.17, 0.18, 0.19, 0.2 , 0.21,\n",
      "       0.22, 0.23, 0.24, 0.25, 0.26, 0.27, 0.28, 0.29, 0.3 , 0.31, 0.32,\n",
      "       0.33, 0.34, 0.35, 0.36, 0.37, 0.38, 0.39, 0.4 , 0.41, 0.42, 0.43,\n",
      "       0.44, 0.45, 0.46, 0.47, 0.48, 0.49, 0.5 , 0.51, 0.52, 0.53, 0.54,\n",
      "       0.55, 0.56, 0.57, 0.58, 0.59, 0.6 , 0.61, 0.62, 0.63, 0.64, 0.65,\n",
      "       0.66, 0.67, 0.68, 0.69, 0.7 , 0.71, 0.72, 0.73, 0.74, 0.75, 0.76,\n",
      "       0.77, 0.78, 0.79, 0.8 , 0.81, 0.82, 0.83, 0.84, 0.85, 0.86, 0.87,\n",
      "       0.88, 0.89, 0.9 , 0.91, 0.92, 0.93, 0.94, 0.95, 0.96, 0.97, 0.98,\n",
      "       0.99])\n",
      " array([ True, False]) array([ True, False])\n",
      " array([0.01, 0.02, 0.03, 0.04, 0.05, 0.06, 0.07, 0.08, 0.09])]\n",
      "2020-11-07 20:19:31.203 | DEBUG    | bbo.initial_parametrizations:hybrid_lhs_uniform_sampling:104 - Selected number of initial parameters: 10\n",
      "2020-11-07 20:19:31.208 | DEBUG    | bbo.optimizer:_initialize:494 - Selected initial parameter space: {initial_parameters}\n",
      "2020-11-07 20:19:31.213 | DEBUG    | bbo.optimizer:_optimization_step:473 - Evaluating performance of parametrization [79 'linear' 2 'scale' 0.9500000000000001 False False 0.03]\n",
      "2020-11-07 20:19:54.609 | DEBUG    | bbo.optimizer:_optimization_step:476 - Corresponding performance: -0.9468085106382979\n",
      "2020-11-07 20:19:54.612 | DEBUG    | bbo.optimizer:_optimization_step:473 - Evaluating performance of parametrization [74 'rbf' 1 'auto' 0.59 True True 0.060000000000000005]\n",
      "2020-11-07 20:19:54.732 | DEBUG    | bbo.optimizer:_optimization_step:476 - Corresponding performance: -0.6436170212765957\n",
      "2020-11-07 20:19:54.735 | DEBUG    | bbo.optimizer:_optimization_step:473 - Evaluating performance of parametrization ['97' 'sigmoid' '3' 'auto' '0.87' 'True' 'True' '0.01']\n",
      "2020-11-07 20:19:54.790 | DEBUG    | bbo.optimizer:_optimization_step:476 - Corresponding performance: -0.6436170212765957\n",
      "2020-11-07 20:19:54.792 | DEBUG    | bbo.optimizer:_optimization_step:473 - Evaluating performance of parametrization ['35' 'rbf' '2' 'scale' '0.43' 'False' 'False' '0.02']\n",
      "2020-11-07 20:19:54.817 | DEBUG    | bbo.optimizer:_optimization_step:476 - Corresponding performance: -0.9787234042553191\n",
      "2020-11-07 20:19:54.820 | DEBUG    | bbo.optimizer:_optimization_step:473 - Evaluating performance of parametrization ['27' 'sigmoid' '1' 'scale' '0.44' 'True' 'True' '0.05']\n",
      "2020-11-07 20:19:54.878 | DEBUG    | bbo.optimizer:_optimization_step:476 - Corresponding performance: -0.9361702127659575\n",
      "2020-11-07 20:19:54.880 | DEBUG    | bbo.optimizer:_optimization_step:473 - Evaluating performance of parametrization ['48' 'sigmoid' '3' 'auto' '0.63' 'True' 'False' '0.01']\n",
      "2020-11-07 20:19:54.927 | DEBUG    | bbo.optimizer:_optimization_step:476 - Corresponding performance: -0.6436170212765957\n",
      "2020-11-07 20:19:54.929 | DEBUG    | bbo.optimizer:_optimization_step:473 - Evaluating performance of parametrization ['41' 'rbf' '3' 'scale' '0.11' 'True' 'True' '0.09']\n",
      "2020-11-07 20:19:54.953 | DEBUG    | bbo.optimizer:_optimization_step:476 - Corresponding performance: -0.9787234042553191\n",
      "2020-11-07 20:19:54.955 | DEBUG    | bbo.optimizer:_optimization_step:473 - Evaluating performance of parametrization ['89' 'rbf' '2' 'scale' '0.2' 'True' 'True' '0.08']\n",
      "2020-11-07 20:19:54.986 | DEBUG    | bbo.optimizer:_optimization_step:476 - Corresponding performance: -0.9840425531914894\n",
      "2020-11-07 20:19:54.988 | DEBUG    | bbo.optimizer:_optimization_step:473 - Evaluating performance of parametrization ['69' 'poly' '1' 'auto' '0.06' 'True' 'False' '0.08']\n",
      "2020-11-07 20:20:01.078 | DEBUG    | bbo.optimizer:_optimization_step:476 - Corresponding performance: -0.9627659574468085\n",
      "2020-11-07 20:20:01.080 | DEBUG    | bbo.optimizer:_optimization_step:473 - Evaluating performance of parametrization ['4' 'rbf' '1' 'scale' '0.71' 'True' 'False' '0.05']\n",
      "2020-11-07 20:20:01.107 | DEBUG    | bbo.optimizer:_optimization_step:476 - Corresponding performance: -0.9574468085106383\n",
      "2020-11-07 20:20:01.112 | DEBUG    | bbo.optimizer:_optimization_step:473 - Evaluating performance of parametrization ['89' 'rbf' '2' 'scale' '0.43' 'False' 'False' '0.02']\n",
      "2020-11-07 20:20:01.151 | DEBUG    | bbo.optimizer:_optimization_step:476 - Corresponding performance: -0.9840425531914894\n",
      "2020-11-07 20:20:01.157 | DEBUG    | bbo.optimizer:_optimization_step:473 - Evaluating performance of parametrization ['90' 'poly' '2' 'scale' '0.43' 'True' 'True' '0.08']\n",
      "2020-11-07 20:20:01.193 | DEBUG    | bbo.optimizer:_optimization_step:476 - Corresponding performance: -0.9893617021276596\n",
      "2020-11-07 20:20:01.199 | DEBUG    | bbo.optimizer:_optimization_step:473 - Evaluating performance of parametrization ['90' 'poly' '2' 'scale' '0.43' 'False' 'False' '0.02']\n",
      "2020-11-07 20:20:01.230 | DEBUG    | bbo.optimizer:_optimization_step:476 - Corresponding performance: -0.9893617021276596\n",
      "2020-11-07 20:20:01.234 | DEBUG    | bbo.optimizer:_optimization_step:473 - Evaluating performance of parametrization ['90' 'poly' '2' 'scale' '0.43' 'False' 'True' '0.08']\n",
      "2020-11-07 20:20:01.266 | DEBUG    | bbo.optimizer:_optimization_step:476 - Corresponding performance: -0.9893617021276596\n",
      "2020-11-07 20:20:01.270 | DEBUG    | bbo.optimizer:_optimization_step:473 - Evaluating performance of parametrization ['90' 'rbf' '1' 'scale' '0.43' 'False' 'True' '0.08']\n",
      "2020-11-07 20:20:01.298 | DEBUG    | bbo.optimizer:_optimization_step:476 - Corresponding performance: -0.9840425531914894\n",
      "2020-11-07 20:20:01.302 | DEBUG    | bbo.optimizer:_optimization_step:473 - Evaluating performance of parametrization ['89' 'rbf' '2' 'scale' '0.43' 'False' 'True' '0.08']\n",
      "2020-11-07 20:20:01.329 | DEBUG    | bbo.optimizer:_optimization_step:476 - Corresponding performance: -0.9840425531914894\n",
      "2020-11-07 20:20:01.334 | DEBUG    | bbo.optimizer:_optimization_step:473 - Evaluating performance of parametrization ['90' 'poly' '2' 'scale' '0.43' 'True' 'True' '0.08']\n",
      "2020-11-07 20:20:01.363 | DEBUG    | bbo.optimizer:_optimization_step:476 - Corresponding performance: -0.9893617021276596\n",
      "2020-11-07 20:20:01.369 | DEBUG    | bbo.optimizer:_optimization_step:473 - Evaluating performance of parametrization ['90' 'poly' '2' 'scale' '0.43' 'True' 'True' '0.08']\n",
      "2020-11-07 20:20:01.399 | DEBUG    | bbo.optimizer:_optimization_step:476 - Corresponding performance: -0.9893617021276596\n",
      "2020-11-07 20:20:01.404 | DEBUG    | bbo.optimizer:_optimization_step:473 - Evaluating performance of parametrization ['89' 'rbf' '1' 'scale' '0.42' 'True' 'False' '0.02']\n",
      "2020-11-07 20:20:01.434 | DEBUG    | bbo.optimizer:_optimization_step:476 - Corresponding performance: -0.9840425531914894\n",
      "2020-11-07 20:20:01.439 | DEBUG    | bbo.optimizer:_optimization_step:473 - Evaluating performance of parametrization ['89' 'linear' '2' 'scale' '0.44' 'True' 'True' '0.03']\n",
      "2020-11-07 20:20:30.492 | DEBUG    | bbo.optimizer:_optimization_step:476 - Corresponding performance: -0.9468085106382979\n",
      "2020-11-07 20:20:30.492 | DEBUG    | bbo.optimizer:_optimization_step:473 - Evaluating performance of parametrization ['90' 'rbf' '2' 'scale' '0.43' 'False' 'True' '0.08']\n",
      "2020-11-07 20:20:30.534 | DEBUG    | bbo.optimizer:_optimization_step:476 - Corresponding performance: -0.9840425531914894\n",
      "2020-11-07 20:20:30.538 | DEBUG    | bbo.optimizer:_optimization_step:473 - Evaluating performance of parametrization ['90' 'rbf' '2' 'scale' '0.43' 'True' 'True' '0.08']\n",
      "2020-11-07 20:20:30.571 | DEBUG    | bbo.optimizer:_optimization_step:476 - Corresponding performance: -0.9840425531914894\n"
     ]
    },
    {
     "name": "stderr",
     "output_type": "stream",
     "text": [
      "2020-11-07 20:20:30.582 | DEBUG    | bbo.optimizer:_optimization_step:473 - Evaluating performance of parametrization ['90' 'poly' '2' 'scale' '0.43' 'True' 'False' '0.02']\n",
      "2020-11-07 20:20:30.633 | DEBUG    | bbo.optimizer:_optimization_step:476 - Corresponding performance: -0.9893617021276596\n",
      "2020-11-07 20:20:30.640 | DEBUG    | bbo.optimizer:_optimization_step:473 - Evaluating performance of parametrization ['89' 'linear' '2' 'scale' '0.42' 'True' 'True' '0.08']\n",
      "2020-11-07 20:20:47.162 | DEBUG    | bbo.optimizer:_optimization_step:476 - Corresponding performance: -0.9468085106382979\n",
      "2020-11-07 20:20:47.166 | DEBUG    | bbo.optimizer:_optimization_step:473 - Evaluating performance of parametrization ['90' 'linear' '1' 'scale' '0.42' 'True' 'True' '0.08']\n",
      "2020-11-07 20:21:19.290 | DEBUG    | bbo.optimizer:_optimization_step:476 - Corresponding performance: -0.9468085106382979\n",
      "2020-11-07 20:21:19.305 | DEBUG    | bbo.optimizer:_optimization_step:473 - Evaluating performance of parametrization ['91' 'rbf' '2' 'scale' '0.43' 'True' 'True' '0.08']\n",
      "2020-11-07 20:21:19.331 | DEBUG    | bbo.optimizer:_optimization_step:476 - Corresponding performance: -0.9840425531914894\n",
      "2020-11-07 20:21:19.336 | DEBUG    | bbo.optimizer:_optimization_step:473 - Evaluating performance of parametrization ['91' 'rbf' '2' 'scale' '0.42' 'True' 'True' '0.06999999999999999']\n",
      "2020-11-07 20:21:19.371 | DEBUG    | bbo.optimizer:_optimization_step:476 - Corresponding performance: -0.9840425531914894\n",
      "2020-11-07 20:21:19.377 | DEBUG    | bbo.optimizer:_optimization_step:473 - Evaluating performance of parametrization ['89' 'linear' '2' 'scale' '0.43' 'False' 'True' '0.08']\n",
      "2020-11-07 20:21:39.352 | DEBUG    | bbo.optimizer:_optimization_step:476 - Corresponding performance: -0.9468085106382979\n",
      "2020-11-07 20:21:39.357 | DEBUG    | bbo.optimizer:_optimization_step:473 - Evaluating performance of parametrization ['90' 'poly' '2' 'scale' '0.43' 'False' 'False' '0.02']\n",
      "2020-11-07 20:21:39.380 | DEBUG    | bbo.optimizer:_optimization_step:476 - Corresponding performance: -0.9893617021276596\n",
      "2020-11-07 20:21:39.384 | DEBUG    | bbo.optimizer:_optimization_step:473 - Evaluating performance of parametrization ['90' 'poly' '2' 'scale' '0.42' 'True' 'True' '0.08']\n",
      "2020-11-07 20:21:39.415 | DEBUG    | bbo.optimizer:_optimization_step:476 - Corresponding performance: -0.9840425531914894\n"
     ]
    },
    {
     "data": {
      "text/plain": [
       "array(['90', 'poly', '2', 'scale', '0.43', 'True', 'False', '0.02'],\n",
       "      dtype=object)"
      ]
     },
     "execution_count": 7,
     "metadata": {},
     "output_type": "execute_result"
    }
   ],
   "source": [
    "svm_bb.optimize()"
   ]
  },
  {
   "cell_type": "code",
   "execution_count": 8,
   "metadata": {},
   "outputs": [],
   "source": [
    "rf_model = OptimizableRandomForest()\n",
    "rf_bb = BBOptimizer(black_box = rf_model, # the black-box to optimize\n",
    "                     parameter_space = rf_parametric_grid, # the grid on which to perform the optimization\n",
    "                     initial_sample_size=10,# the initial size of the sample\n",
    "                     heuristic=\"genetic_algorithm\", # the name of the heuristics to use\n",
    "                     max_iteration=20, # the maximum number of iterations\n",
    "                     time_out=200, # in seconds, the maximum elapsed time\n",
    "                     # the following arguments are specific to genetic algorithms:\n",
    "                     mutation_method= mutate_chromosome_to_neighbor, # the mutation function\n",
    "                     mutation_rate=0.3,#the mutation rate\n",
    "                     crossover_method=single_point_crossover, # the crossover function\n",
    "                     selection_method=tournament_pick # the selection function\n",
    "                     ) "
   ]
  },
  {
   "cell_type": "code",
   "execution_count": 9,
   "metadata": {},
   "outputs": [
    {
     "name": "stderr",
     "output_type": "stream",
     "text": [
      "2020-11-07 20:21:39.466 | DEBUG    | bbo.optimizer:_initialize:487 - Initializing parameter space\n",
      "2020-11-07 20:21:39.475 | DEBUG    | bbo.optimizer:_initialize:488 - Parameter space given by user: [array([ 50,  70,  90, 110, 130, 150, 170, 190])\n",
      " array(['gini', 'entropy'], dtype='<U7') array([5, 6, 7, 8, 9])\n",
      " array([2, 3, 4, 5, 6, 7, 8, 9]) array([0. , 0.1, 0.2, 0.3])\n",
      " array(['auto', 'sqrt', 'log2'], dtype='<U4')]\n",
      "2020-11-07 20:21:39.478 | DEBUG    | bbo.initial_parametrizations:hybrid_lhs_uniform_sampling:104 - Selected number of initial parameters: 10\n",
      "2020-11-07 20:21:39.483 | DEBUG    | bbo.optimizer:_initialize:494 - Selected initial parameter space: {initial_parameters}\n",
      "2020-11-07 20:21:39.485 | DEBUG    | bbo.optimizer:_optimization_step:473 - Evaluating performance of parametrization [110 'entropy' 5 5 0.1 'sqrt']\n",
      "2020-11-07 20:21:39.829 | DEBUG    | bbo.optimizer:_optimization_step:476 - Corresponding performance: -0.9574468085106383\n",
      "2020-11-07 20:21:39.830 | DEBUG    | bbo.optimizer:_optimization_step:473 - Evaluating performance of parametrization [170 'gini' 6 7 0.30000000000000004 'log2']\n",
      "2020-11-07 20:21:40.189 | DEBUG    | bbo.optimizer:_optimization_step:476 - Corresponding performance: -0.9468085106382979\n",
      "2020-11-07 20:21:40.191 | DEBUG    | bbo.optimizer:_optimization_step:473 - Evaluating performance of parametrization ['130' 'entropy' '7' '3' '0.30000000000000004' 'log2']\n",
      "2020-11-07 20:21:40.545 | DEBUG    | bbo.optimizer:_optimization_step:476 - Corresponding performance: -0.9361702127659575\n",
      "2020-11-07 20:21:40.547 | DEBUG    | bbo.optimizer:_optimization_step:473 - Evaluating performance of parametrization ['150' 'entropy' '8' '3' '0.2' 'log2']\n",
      "2020-11-07 20:21:41.137 | DEBUG    | bbo.optimizer:_optimization_step:476 - Corresponding performance: -0.9468085106382979\n",
      "2020-11-07 20:21:41.141 | DEBUG    | bbo.optimizer:_optimization_step:473 - Evaluating performance of parametrization ['190' 'gini' '9' '3' '0.2' 'log2']\n",
      "2020-11-07 20:21:41.628 | DEBUG    | bbo.optimizer:_optimization_step:476 - Corresponding performance: -0.9468085106382979\n",
      "2020-11-07 20:21:41.630 | DEBUG    | bbo.optimizer:_optimization_step:473 - Evaluating performance of parametrization ['90' 'entropy' '9' '6' '0.30000000000000004' 'auto']\n",
      "2020-11-07 20:21:41.934 | DEBUG    | bbo.optimizer:_optimization_step:476 - Corresponding performance: -0.9521276595744681\n",
      "2020-11-07 20:21:41.937 | DEBUG    | bbo.optimizer:_optimization_step:473 - Evaluating performance of parametrization ['130' 'gini' '5' '3' '0.0' 'log2']\n",
      "2020-11-07 20:21:42.534 | DEBUG    | bbo.optimizer:_optimization_step:476 - Corresponding performance: -0.9574468085106383\n",
      "2020-11-07 20:21:42.536 | DEBUG    | bbo.optimizer:_optimization_step:473 - Evaluating performance of parametrization ['110' 'entropy' '6' '9' '0.2' 'log2']\n",
      "2020-11-07 20:21:42.841 | DEBUG    | bbo.optimizer:_optimization_step:476 - Corresponding performance: -0.9414893617021277\n",
      "2020-11-07 20:21:42.843 | DEBUG    | bbo.optimizer:_optimization_step:473 - Evaluating performance of parametrization ['130' 'gini' '7' '9' '0.1' 'auto']\n",
      "2020-11-07 20:21:43.155 | DEBUG    | bbo.optimizer:_optimization_step:476 - Corresponding performance: -0.9574468085106383\n",
      "2020-11-07 20:21:43.155 | DEBUG    | bbo.optimizer:_optimization_step:473 - Evaluating performance of parametrization ['190' 'gini' '7' '6' '0.0' 'log2']\n",
      "2020-11-07 20:21:43.776 | DEBUG    | bbo.optimizer:_optimization_step:476 - Corresponding performance: -0.9574468085106383\n",
      "2020-11-07 20:21:43.779 | DEBUG    | bbo.optimizer:_optimization_step:473 - Evaluating performance of parametrization ['130' 'gini' '7' 5 0.1 'sqrt']\n",
      "2020-11-07 20:21:44.097 | DEBUG    | bbo.optimizer:_optimization_step:476 - Corresponding performance: -0.9574468085106383\n",
      "2020-11-07 20:21:44.099 | DEBUG    | bbo.optimizer:_optimization_step:473 - Evaluating performance of parametrization ['130' 'gini' '5' 5 0.1 'sqrt']\n",
      "2020-11-07 20:21:44.397 | DEBUG    | bbo.optimizer:_optimization_step:476 - Corresponding performance: -0.9468085106382979\n",
      "2020-11-07 20:21:44.400 | DEBUG    | bbo.optimizer:_optimization_step:473 - Evaluating performance of parametrization ['190' 'gini' '7' 5 0.1 'sqrt']\n",
      "2020-11-07 20:21:45.018 | DEBUG    | bbo.optimizer:_optimization_step:476 - Corresponding performance: -0.9574468085106383\n",
      "2020-11-07 20:21:45.020 | DEBUG    | bbo.optimizer:_optimization_step:473 - Evaluating performance of parametrization [110 'entropy' '7' '9' '0.1' 'auto']\n",
      "2020-11-07 20:21:45.305 | DEBUG    | bbo.optimizer:_optimization_step:476 - Corresponding performance: -0.9414893617021277\n",
      "2020-11-07 20:21:45.325 | DEBUG    | bbo.optimizer:_optimization_step:473 - Evaluating performance of parametrization ['130' 'gini' '7' '9' 0.1 'sqrt']\n",
      "2020-11-07 20:21:45.755 | DEBUG    | bbo.optimizer:_optimization_step:476 - Corresponding performance: -0.9521276595744681\n",
      "2020-11-07 20:21:45.755 | DEBUG    | bbo.optimizer:_optimization_step:473 - Evaluating performance of parametrization ['130' 'gini' '7' '6' '0.0' 'log2']\n",
      "2020-11-07 20:21:46.249 | DEBUG    | bbo.optimizer:_optimization_step:476 - Corresponding performance: -0.9361702127659575\n",
      "2020-11-07 20:21:46.251 | DEBUG    | bbo.optimizer:_optimization_step:473 - Evaluating performance of parametrization ['90' 'entropy' '7' '7' '0.0' 'log2']\n",
      "2020-11-07 20:21:46.526 | DEBUG    | bbo.optimizer:_optimization_step:476 - Corresponding performance: -0.973404255319149\n",
      "2020-11-07 20:21:46.528 | DEBUG    | bbo.optimizer:_optimization_step:473 - Evaluating performance of parametrization ['90' 'entropy' '7' 5 0.1 'sqrt']\n",
      "2020-11-07 20:21:46.786 | DEBUG    | bbo.optimizer:_optimization_step:476 - Corresponding performance: -0.9680851063829787\n",
      "2020-11-07 20:21:46.789 | DEBUG    | bbo.optimizer:_optimization_step:473 - Evaluating performance of parametrization ['130' 'gini' '5' '7' '0.0' 'log2']\n",
      "2020-11-07 20:21:47.387 | DEBUG    | bbo.optimizer:_optimization_step:476 - Corresponding performance: -0.9680851063829787\n",
      "2020-11-07 20:21:47.391 | DEBUG    | bbo.optimizer:_optimization_step:473 - Evaluating performance of parametrization ['70' 'entropy' '6' '4' '0.0' 'sqrt']\n",
      "2020-11-07 20:21:47.696 | DEBUG    | bbo.optimizer:_optimization_step:476 - Corresponding performance: -0.9680851063829787\n",
      "2020-11-07 20:21:47.699 | DEBUG    | bbo.optimizer:_optimization_step:473 - Evaluating performance of parametrization ['130' 'gini' '6' '7' '0.0' 'auto']\n",
      "2020-11-07 20:21:48.056 | DEBUG    | bbo.optimizer:_optimization_step:476 - Corresponding performance: -0.9680851063829787\n",
      "2020-11-07 20:21:48.056 | DEBUG    | bbo.optimizer:_optimization_step:473 - Evaluating performance of parametrization ['110' 'entropy' '5' '7' '0.0' 'log2']\n",
      "2020-11-07 20:21:48.396 | DEBUG    | bbo.optimizer:_optimization_step:476 - Corresponding performance: -0.973404255319149\n",
      "2020-11-07 20:21:48.399 | DEBUG    | bbo.optimizer:_optimization_step:473 - Evaluating performance of parametrization ['90' 'gini' '6' '6' '0.0' 'sqrt']\n",
      "2020-11-07 20:21:48.645 | DEBUG    | bbo.optimizer:_optimization_step:476 - Corresponding performance: -0.9521276595744681\n",
      "2020-11-07 20:21:48.647 | DEBUG    | bbo.optimizer:_optimization_step:473 - Evaluating performance of parametrization ['110' 'entropy' '6' '8' '0.1' 'sqrt']\n",
      "2020-11-07 20:21:48.881 | DEBUG    | bbo.optimizer:_optimization_step:476 - Corresponding performance: -0.9521276595744681\n",
      "2020-11-07 20:21:48.884 | DEBUG    | bbo.optimizer:_optimization_step:473 - Evaluating performance of parametrization ['130' 'entropy' '7' '8' '0.0' 'sqrt']\n",
      "2020-11-07 20:21:49.203 | DEBUG    | bbo.optimizer:_optimization_step:476 - Corresponding performance: -0.9574468085106383\n",
      "2020-11-07 20:21:49.207 | DEBUG    | bbo.optimizer:_optimization_step:473 - Evaluating performance of parametrization ['130' 'entropy' '6' '6' '0.0' 'log2']\n",
      "2020-11-07 20:21:49.594 | DEBUG    | bbo.optimizer:_optimization_step:476 - Corresponding performance: -0.9627659574468085\n",
      "2020-11-07 20:21:49.597 | DEBUG    | bbo.optimizer:_optimization_step:473 - Evaluating performance of parametrization ['90' 'entropy' '5' '7' '0.0' 'log2']\n",
      "2020-11-07 20:21:49.902 | DEBUG    | bbo.optimizer:_optimization_step:476 - Corresponding performance: -0.9574468085106383\n"
     ]
    },
    {
     "name": "stderr",
     "output_type": "stream",
     "text": [
      "2020-11-07 20:21:49.904 | DEBUG    | bbo.optimizer:_optimization_step:473 - Evaluating performance of parametrization ['70' 'entropy' '5' '7' '0.0' 'log2']\n",
      "2020-11-07 20:21:50.127 | DEBUG    | bbo.optimizer:_optimization_step:476 - Corresponding performance: -0.9680851063829787\n",
      "2020-11-07 20:21:50.129 | DEBUG    | bbo.optimizer:_optimization_step:473 - Evaluating performance of parametrization ['130' 'gini' '7' '7' '0.0' 'log2']\n",
      "2020-11-07 20:21:50.433 | DEBUG    | bbo.optimizer:_optimization_step:476 - Corresponding performance: -0.9521276595744681\n",
      "2020-11-07 20:21:50.436 | DEBUG    | bbo.optimizer:_optimization_step:473 - Evaluating performance of parametrization ['110' 'entropy' '5' '4' '0.0' 'sqrt']\n",
      "2020-11-07 20:21:50.985 | DEBUG    | bbo.optimizer:_optimization_step:476 - Corresponding performance: -0.973404255319149\n"
     ]
    },
    {
     "data": {
      "text/plain": [
       "array(['110', 'entropy', '5', '4', '0.0', 'sqrt'], dtype=object)"
      ]
     },
     "execution_count": 9,
     "metadata": {},
     "output_type": "execute_result"
    }
   ],
   "source": [
    "rf_bb.optimize()"
   ]
  },
  {
   "cell_type": "markdown",
   "metadata": {},
   "source": [
    "## Read results\n",
    "\n",
    "The results of the optimization can be read using the `summary` method on each object. The fitness (*i.e.* the accuracy as a function of the iteration step) can also be plotted to look at the convergence trajectory."
   ]
  },
  {
   "cell_type": "code",
   "execution_count": 12,
   "metadata": {},
   "outputs": [],
   "source": [
    "from matplotlib import pyplot as plt"
   ]
  },
  {
   "cell_type": "code",
   "execution_count": 10,
   "metadata": {},
   "outputs": [
    {
     "name": "stdout",
     "output_type": "stream",
     "text": [
      "------ Optimization loop summary ------\n",
      "Number of iterations: 30\n",
      "Elapsed time: 128.2299826145172\n",
      "Best parameters: ['90' 'poly' '2' 'scale' '0.43' 'True' 'False' '0.02']\n",
      "Best fitness value: -0.9893617021276596\n",
      "Some statistics are yet unavailable for mixedtypes variables.\n",
      "--- Heuristic specific summary ---\n",
      "Number of mutations: 12\n",
      "Family tree:\n",
      "['89' 'rbf' '2' 'scale' '0.2' 'True' 'True' '0.08'] + ['35' 'rbf' '2' 'scale' '0.43' 'False' 'False' '0.02']\n",
      "|_> ['89' 'rbf' '2' 'scale' '0.43' 'False' 'False' '0.02']\n",
      "['89' 'rbf' '2' 'scale' '0.43' 'False' 'False' '0.02'] + ['89' 'rbf' '2' 'scale' '0.2' 'True' 'True' '0.08']\n",
      "|_> ['90' 'poly' '2' 'scale' '0.43' 'True' 'True' '0.08']\n",
      "['90' 'poly' '2' 'scale' '0.43' 'True' 'True' '0.08'] + ['89' 'rbf' '2' 'scale' '0.43' 'False' 'False' '0.02']\n",
      "|_> ['90' 'poly' '2' 'scale' '0.43' 'False' 'False' '0.02']\n",
      "['90' 'poly' '2' 'scale' '0.43' 'False' 'False' '0.02'] + ['90' 'poly' '2' 'scale' '0.43' 'True' 'True' '0.08']\n",
      "|_> ['90' 'poly' '2' 'scale' '0.43' 'False' 'True' '0.08']\n",
      "['90' 'poly' '2' 'scale' '0.43' 'False' 'True' '0.08'] + ['89' 'rbf' '2' 'scale' '0.2' 'True' 'True' '0.08']\n",
      "|_> ['90' 'rbf' '1' 'scale' '0.43' 'False' 'True' '0.08']\n",
      "['89' 'rbf' '2' 'scale' '0.2' 'True' 'True' '0.08'] + ['90' 'poly' '2' 'scale' '0.43' 'False' 'True' '0.08']\n",
      "|_> ['89' 'rbf' '2' 'scale' '0.43' 'False' 'True' '0.08']\n",
      "['90' 'poly' '2' 'scale' '0.43' 'False' 'False' '0.02'] + ['90' 'poly' '2' 'scale' '0.43' 'True' 'True' '0.08']\n",
      "|_> ['90' 'poly' '2' 'scale' '0.43' 'True' 'True' '0.08']\n",
      "['90' 'poly' '2' 'scale' '0.43' 'False' 'True' '0.08'] + ['90' 'poly' '2' 'scale' '0.43' 'True' 'True' '0.08']\n",
      "|_> ['90' 'poly' '2' 'scale' '0.43' 'True' 'True' '0.08']\n",
      "['90' 'poly' '2' 'scale' '0.43' 'False' 'True' '0.08'] + ['90' 'poly' '2' 'scale' '0.43' 'False' 'False' '0.02']\n",
      "|_> ['89' 'rbf' '1' 'scale' '0.42' 'True' 'False' '0.02']\n",
      "['90' 'poly' '2' 'scale' '0.43' 'True' 'True' '0.08'] + ['89' 'rbf' '2' 'scale' '0.43' 'False' 'False' '0.02']\n",
      "|_> ['89' 'linear' '2' 'scale' '0.44' 'True' 'True' '0.03']\n",
      "['90' 'poly' '2' 'scale' '0.43' 'False' 'True' '0.08'] + ['89' 'rbf' '2' 'scale' '0.43' 'False' 'True' '0.08']\n",
      "|_> ['90' 'rbf' '2' 'scale' '0.43' 'False' 'True' '0.08']\n",
      "['90' 'poly' '2' 'scale' '0.43' 'False' 'True' '0.08'] + ['90' 'poly' '2' 'scale' '0.43' 'True' 'True' '0.08']\n",
      "|_> ['90' 'rbf' '2' 'scale' '0.43' 'True' 'True' '0.08']\n",
      "['90' 'poly' '2' 'scale' '0.43' 'True' 'True' '0.08'] + ['90' 'poly' '2' 'scale' '0.43' 'False' 'False' '0.02']\n",
      "|_> ['90' 'poly' '2' 'scale' '0.43' 'True' 'False' '0.02']\n",
      "['90' 'poly' '2' 'scale' '0.43' 'True' 'True' '0.08'] + ['90' 'poly' '2' 'scale' '0.43' 'False' 'True' '0.08']\n",
      "|_> ['89' 'linear' '2' 'scale' '0.42' 'True' 'True' '0.08']\n",
      "['90' 'poly' '2' 'scale' '0.43' 'True' 'True' '0.08'] + ['90' 'poly' '2' 'scale' '0.43' 'False' 'True' '0.08']\n",
      "|_> ['90' 'linear' '1' 'scale' '0.42' 'True' 'True' '0.08']\n",
      "['90' 'poly' '2' 'scale' '0.43' 'True' 'False' '0.02'] + ['90' 'poly' '2' 'scale' '0.43' 'True' 'True' '0.08']\n",
      "|_> ['91' 'rbf' '2' 'scale' '0.43' 'True' 'True' '0.08']\n",
      "['90' 'poly' '2' 'scale' '0.43' 'True' 'True' '0.08'] + ['91' 'rbf' '2' 'scale' '0.43' 'True' 'True' '0.08']\n",
      "|_> ['91' 'rbf' '2' 'scale' '0.42' 'True' 'True' '0.06999999999999999']\n",
      "['90' 'poly' '2' 'scale' '0.43' 'False' 'True' '0.08'] + ['90' 'rbf' '2' 'scale' '0.43' 'False' 'True' '0.08']\n",
      "|_> ['89' 'linear' '2' 'scale' '0.43' 'False' 'True' '0.08']\n",
      "['90' 'poly' '2' 'scale' '0.43' 'True' 'True' '0.08'] + ['89' 'rbf' '2' 'scale' '0.43' 'False' 'False' '0.02']\n",
      "|_> ['90' 'poly' '2' 'scale' '0.43' 'False' 'False' '0.02']\n",
      "['90' 'poly' '2' 'scale' '0.43' 'True' 'False' '0.02'] + ['90' 'poly' '2' 'scale' '0.43' 'True' 'True' '0.08']\n",
      "|_> ['90' 'poly' '2' 'scale' '0.42' 'True' 'True' '0.08']\n",
      "['90' 'poly' '2' 'scale' '0.43' 'False' 'True' '0.08'] + ['90' 'poly' '2' 'scale' '0.43' 'True' 'True' '0.08']\n",
      "|_> ['89' 'poly' '2' 'scale' '0.43' 'False' 'True' '0.08']\n",
      "None\n"
     ]
    }
   ],
   "source": [
    "svm_bb.summarize()"
   ]
  },
  {
   "cell_type": "code",
   "execution_count": 17,
   "metadata": {},
   "outputs": [
    {
     "data": {
      "text/plain": [
       "Text(0.5, 1.0, 'Accuracy as a function of the number of iterations for SVM model')"
      ]
     },
     "execution_count": 17,
     "metadata": {},
     "output_type": "execute_result"
    },
    {
     "data": {
      "image/png": "[encoded data removed]",
      "text/plain": [
       "<Figure size 432x288 with 1 Axes>"
      ]
     },
     "metadata": {
      "needs_background": "light"
     },
     "output_type": "display_data"
    }
   ],
   "source": [
    "plt.plot(-svm_bb.history[\"fitness\"])\n",
    "plt.title(\"Accuracy as a function of the number of iterations for SVM model\")"
   ]
  },
  {
   "cell_type": "code",
   "execution_count": 11,
   "metadata": {},
   "outputs": [
    {
     "name": "stdout",
     "output_type": "stream",
     "text": [
      "------ Optimization loop summary ------\n",
      "Number of iterations: 30\n",
      "Elapsed time: 11.522201299667358\n",
      "Best parameters: ['110' 'entropy' '5' '4' '0.0' 'sqrt']\n",
      "Best fitness value: -0.973404255319149\n",
      "Some statistics are yet unavailable for mixedtypes variables.\n",
      "--- Heuristic specific summary ---\n",
      "Number of mutations: 9\n",
      "Family tree:\n",
      "['130' 'gini' '7' '9' '0.1' 'auto'] + [110 'entropy' 5 5 0.1 'sqrt']\n",
      "|_> ['130' 'gini' '7' 5 0.1 'sqrt']\n",
      "['130' 'gini' '5' '3' '0.0' 'log2'] + ['130' 'gini' '7' 5 0.1 'sqrt']\n",
      "|_> ['130' 'gini' '5' 5 0.1 'sqrt']\n",
      "['190' 'gini' '7' '6' '0.0' 'log2'] + ['130' 'gini' '7' 5 0.1 'sqrt']\n",
      "|_> ['190' 'gini' '7' 5 0.1 'sqrt']\n",
      "[110 'entropy' 5 5 0.1 'sqrt'] + ['130' 'gini' '7' '9' '0.1' 'auto']\n",
      "|_> [110 'entropy' '7' '9' '0.1' 'auto']\n",
      "['130' 'gini' '7' '9' '0.1' 'auto'] + ['190' 'gini' '7' 5 0.1 'sqrt']\n",
      "|_> ['130' 'gini' '7' '9' 0.1 'sqrt']\n",
      "['130' 'gini' '5' '3' '0.0' 'log2'] + ['190' 'gini' '7' '6' '0.0' 'log2']\n",
      "|_> ['130' 'gini' '7' '6' '0.0' 'log2']\n",
      "[110 'entropy' 5 5 0.1 'sqrt'] + ['190' 'gini' '7' '6' '0.0' 'log2']\n",
      "|_> ['90' 'entropy' '7' '7' '0.0' 'log2']\n",
      "['90' 'entropy' '7' '7' '0.0' 'log2'] + ['190' 'gini' '7' 5 0.1 'sqrt']\n",
      "|_> ['90' 'entropy' '7' 5 0.1 'sqrt']\n",
      "['130' 'gini' '5' '3' '0.0' 'log2'] + ['90' 'entropy' '7' '7' '0.0' 'log2']\n",
      "|_> ['130' 'gini' '5' '7' '0.0' 'log2']\n",
      "['90' 'entropy' '7' '7' '0.0' 'log2'] + ['90' 'entropy' '7' 5 0.1 'sqrt']\n",
      "|_> ['70' 'entropy' '6' '4' '0.0' 'sqrt']\n",
      "['130' 'gini' '5' '7' '0.0' 'log2'] + ['70' 'entropy' '6' '4' '0.0' 'sqrt']\n",
      "|_> ['130' 'gini' '6' '7' '0.0' 'auto']\n",
      "['90' 'entropy' '7' '7' '0.0' 'log2'] + ['130' 'gini' '5' '7' '0.0' 'log2']\n",
      "|_> ['110' 'entropy' '5' '7' '0.0' 'log2']\n",
      "['90' 'entropy' '7' 5 0.1 'sqrt'] + ['130' 'gini' '6' '7' '0.0' 'auto']\n",
      "|_> ['90' 'gini' '6' '6' '0.0' 'sqrt']\n",
      "['110' 'entropy' '5' '7' '0.0' 'log2'] + ['90' 'entropy' '7' '7' '0.0' 'log2']\n",
      "|_> ['110' 'entropy' '6' '8' '0.1' 'sqrt']\n",
      "['130' 'gini' '6' '7' '0.0' 'auto'] + ['90' 'entropy' '7' '7' '0.0' 'log2']\n",
      "|_> ['130' 'entropy' '7' '8' '0.0' 'sqrt']\n",
      "['110' 'entropy' '5' '7' '0.0' 'log2'] + ['90' 'entropy' '7' '7' '0.0' 'log2']\n",
      "|_> ['130' 'entropy' '6' '6' '0.0' 'log2']\n",
      "['90' 'entropy' '7' '7' '0.0' 'log2'] + ['110' 'entropy' '5' '7' '0.0' 'log2']\n",
      "|_> ['90' 'entropy' '5' '7' '0.0' 'log2']\n",
      "['70' 'entropy' '6' '4' '0.0' 'sqrt'] + ['110' 'entropy' '5' '7' '0.0' 'log2']\n",
      "|_> ['70' 'entropy' '5' '7' '0.0' 'log2']\n",
      "['130' 'entropy' '6' '6' '0.0' 'log2'] + ['110' 'entropy' '5' '7' '0.0' 'log2']\n",
      "|_> ['130' 'gini' '7' '7' '0.0' 'log2']\n",
      "['110' 'entropy' '5' '7' '0.0' 'log2'] + ['70' 'entropy' '6' '4' '0.0' 'sqrt']\n",
      "|_> ['110' 'entropy' '5' '4' '0.0' 'sqrt']\n",
      "['110' 'entropy' '5' '4' '0.0' 'sqrt'] + ['90' 'entropy' '7' 5 0.1 'sqrt']\n",
      "|_> ['110' 'entropy' '5' 5 0.1 'sqrt']\n",
      "None\n"
     ]
    }
   ],
   "source": [
    "rf_bb.summarize()"
   ]
  },
  {
   "cell_type": "code",
   "execution_count": 19,
   "metadata": {},
   "outputs": [
    {
     "data": {
      "text/plain": [
       "Text(0.5, 1.0, 'Accuracy as a function of the number of iterations for Random Forest model')"
      ]
     },
     "execution_count": 19,
     "metadata": {},
     "output_type": "execute_result"
    },
    {
     "data": {
      "image/png": "[encoded data removed]",
      "text/plain": [
       "<Figure size 432x288 with 1 Axes>"
      ]
     },
     "metadata": {
      "needs_background": "light"
     },
     "output_type": "display_data"
    }
   ],
   "source": [
    "plt.plot(-rf_bb.history[\"fitness\"])\n",
    "plt.title(\"Accuracy as a function of the number of iterations for Random Forest model\")"
   ]
  },
  {
   "cell_type": "code",
   "execution_count": 23,
   "metadata": {},
   "outputs": [
    {
     "name": "stdout",
     "output_type": "stream",
     "text": [
      "I'm the Ackley function ! Good luck finding my optimum !\n"
     ]
    },
    {
     "name": "stderr",
     "output_type": "stream",
     "text": [
      "<ipython-input-23-bb56808ee997>:14: VisibleDeprecationWarning: Creating an ndarray from ragged nested sequences (which is a list-or-tuple of lists-or-tuples-or ndarrays with different lengths or shapes) is deprecated. If you meant to do this, you must specify 'dtype=object' when creating the ndarray\n",
      "  parametric_grid = np.array([np.arange(-10, 10, 1), np.arange(-5, 5, 1)]).T\n"
     ]
    }
   ],
   "source": [
    "import numpy as np\n",
    "\n",
    "\n",
    "class FakeBlackBox:\n",
    "    def __init__(self):\n",
    "        print(\"I'm the Ackley function ! Good luck finding my optimum !\")\n",
    "        \n",
    "    def compute(self, array_2d):\n",
    "        return -20 * np.exp(-0.2 * np.sqrt(0.5 * (array_2d[0]**2 + array_2d[1]**2))) - np.exp(0.5 * (np.cos(2 * np.pi * array_2d[0]) + np.cos(2 * np.pi * array_2d[1]))) + np.exp(1) + 20\n",
    "\n",
    "# create the fake_black_box object\n",
    "fake_black_box = FakeBlackBox()\n",
    "# choose the optimization grid\n",
    "parametric_grid = np.array([np.arange(-10, 10, 1), np.arange(-5, 5, 1)]).T"
   ]
  },
  {
   "cell_type": "code",
   "execution_count": 26,
   "metadata": {},
   "outputs": [],
   "source": [
    "from bbo.optimizer import BBOptimizer\n",
    "import numpy\n",
    "from bbo.heuristics.surrogate_models.next_parameter_strategies import expected_improvement\n",
    "from sklearn.gaussian_process import GaussianProcessRegressor\n",
    "\n",
    "\n",
    "bb_obj = BBOptimizer(\n",
    "    black_box=fake_black_box,\n",
    "    heuristic=\"surrogate_model\",\n",
    "    max_iteration=20,\n",
    "    initial_sample_size=2,\n",
    "    parameter_space=parametric_grid,\n",
    "    next_parameter_strategy=expected_improvement,\n",
    "    regression_model=GaussianProcessRegressor,\n",
    "    resampling_policy=\"dynamic_resampling\",\n",
    "    percentage=0.1,\n",
    ")"
   ]
  }
 ],
 "metadata": {
  "hide_input": false,
  "kernelspec": {
   "display_name": "Shaman_project",
   "language": "python",
   "name": "shaman_project"
  },
  "language_info": {
   "codemirror_mode": {
    "name": "ipython",
    "version": 3
   },
   "file_extension": ".py",
   "mimetype": "text/x-python",
   "name": "python",
   "nbconvert_exporter": "python",
   "pygments_lexer": "ipython3",
   "version": "3.8.2"
  },
  "toc": {
   "base_numbering": 1,
   "nav_menu": {},
   "number_sections": true,
   "sideBar": true,
   "skip_h1_title": false,
   "title_cell": "Table of Contents",
   "title_sidebar": "Contents",
   "toc_cell": false,
   "toc_position": {},
   "toc_section_display": true,
   "toc_window_display": false
  }
 },
 "nbformat": 4,
 "nbformat_minor": 4
}
