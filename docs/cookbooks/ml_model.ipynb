{
 "cells": [
  {
   "cell_type": "markdown",
   "metadata": {},
   "source": [
    "# Using `bbo` for auto-tuning of Machine Learning models\n",
    "\n",
    "In this example, we will use `bbo` as a stand-alone black-box optimization library to find the optimum hyper-parameters (a *Support Vector Machine* and a *RandomForestClassifier*) for two Machine Learning models, on the `breast_cancer` dataset."
   ]
  },
  {
   "cell_type": "markdown",
   "metadata": {},
   "source": [
    "## Loading the dataset\n",
    "The [`breast_cancer` dataset](https://scikit-learn.org/stable/datasets/index.html#breast-cancer-dataset) is a classic and very easy binary classification dataset. We will use it as an example for tuning the models. After loading the data, we will use the `train_test_split` function to divide the dataset into a train dataset (that we will train the model on) and a test dataset (where we will evaluate the model on to get its accuracy on unseen data). As `bbo` is a *minimizer*, we will use the opposite value of the accuracy as a training target."
   ]
  },
  {
   "cell_type": "code",
   "execution_count": 1,
   "metadata": {},
   "outputs": [],
   "source": [
    "from sklearn.datasets import load_breast_cancer\n",
    "from sklearn.model_selection import train_test_split\n",
    "\n",
    "data = load_breast_cancer()\n",
    "\n",
    "X_train, X_test, y_train, y_test = train_test_split(data[\"data\"], data[\"target\"], test_size=0.33, random_state=42)"
   ]
  },
  {
   "cell_type": "markdown",
   "metadata": {},
   "source": [
    "## Design black-box class\n",
    "To use `bbo`, we need to design two classes that act as black-box that can be tuned: they have a `compute` method that takes as input a parametrization, trains the model using this parametrization on the train data, evaluates the model on the test data and return the opposite of the accuracy.\n",
    "\n",
    "We will tune two sklearn models:\n",
    "- [SVM](https://scikit-learn.org/stable/modules/generated/sklearn.svm.SVC.html#sklearn.svm.SVC): we will look for the optimum value of:\n",
    "    * C\n",
    "    * kernel\n",
    "    * degree\n",
    "    * gamma\n",
    "    * coef0\n",
    "    * shrinking\n",
    "    * probability\n",
    "    * tol\n",
    " \n",
    "- [Random forest](https://scikit-learn.org/stable/modules/generated/sklearn.ensemble.RandomForestClassifier.html?highlight=random%20forest#sklearn.ensemble.RandomForestClassifier): we will look for the optimum of:\n",
    "    * n_estimators\n",
    "    * criterion\n",
    "    * max_depth\n",
    "    * min_samples_split\n",
    "    * min_weight_fraction_leaf\n",
    "    * max_features\n",
    "    \n",
    " For each model, we will define the class with the `compute` method and the corresponding `parametric_grid` (*i.e* the values that can be tested by the optimizer)."
   ]
  },
  {
   "cell_type": "code",
   "execution_count": 2,
   "metadata": {},
   "outputs": [],
   "source": [
    "from sklearn.svm import SVC\n",
    "from sklearn.ensemble import RandomForestClassifier\n",
    "import numpy as np"
   ]
  },
  {
   "cell_type": "code",
   "execution_count": 3,
   "metadata": {},
   "outputs": [],
   "source": [
    "class OptimizableSVM:\n",
    "    \"\"\"\n",
    "    Optimizable class to find the optimal parametrization of a SVM model.\n",
    "    \"\"\"\n",
    "    def compute(self, parameters):\n",
    "        \"\"\"\n",
    "        Outputs the cross validation score for the model.\n",
    "        \"\"\"\n",
    "        parameters_dict = {\"C\": float(parameters[0]), \"kernel\": str(parameters[1]), \"degree\": int(parameters[2]), \"gamma\": str(parameters[3]), \"coef0\": float(parameters[4]), \"shrinking\": bool(parameters[5]), \"probability\": bool(parameters[6]), \"tol\": float(parameters[7])}\n",
    "        svc = SVC(**parameters_dict)\n",
    "        svc.fit(X_train, y_train)\n",
    "        return -svc.score(X_test, y_test)\n",
    "    \n",
    "# Define parametric grid\n",
    "c = np.arange(1, 100, 1)\n",
    "kernel = np.array([\"linear\", \"poly\", \"rbf\", \"sigmoid\"])\n",
    "degree = np.arange(1, 4, 1)\n",
    "gamma = np.array(['scale', 'auto'])\n",
    "coef = np.arange(0, 1, 0.01)\n",
    "shrinking = np.array([True, False])\n",
    "probability = np.array([True, False])\n",
    "tol = np.arange(0.01, 0.1, 0.01)\n",
    "\n",
    "svm_parametric_grid = np.array([c, kernel, degree, gamma, coef, shrinking, probability, tol], dtype=object)"
   ]
  },
  {
   "cell_type": "code",
   "execution_count": 4,
   "metadata": {},
   "outputs": [],
   "source": [
    "class OptimizableRandomForest:\n",
    "    \"\"\"\n",
    "    Model that will act as a black-box.\n",
    "    \"\"\"\n",
    "    def compute(self, parameters):\n",
    "        parameters_dict = {\"n_estimators\": int(parameters[0]), \"criterion\": str(parameters[1]), \"max_depth\": float(parameters[2]), \"min_samples_split\": int(parameters[3]), \"min_weight_fraction_leaf\":float(parameters[4]), \"max_features\": str(parameters[5])}\n",
    "        random_forest = RandomForestClassifier(**parameters_dict)\n",
    "        random_forest.fit(X_train, y_train)\n",
    "        return -random_forest.score(X_test, y_test)\n",
    "\n",
    "n_estimators = np.arange(50, 200, 20)\n",
    "criterion = np.array([\"gini\", \"entropy\"])\n",
    "max_depth = np.arange(5, 10, 1)\n",
    "min_samples_split = np.arange(2, 10, 1)\n",
    "min_weight_fraction_leaf = np.arange(0, 0.4, 0.1)\n",
    "max_features = np.array([\"auto\", \"sqrt\", \"log2\"])\n",
    "\n",
    "rf_parametric_grid = np.array([n_estimators, criterion, max_depth, min_samples_split, min_weight_fraction_leaf, max_features], dtype=object)"
   ]
  },
  {
   "cell_type": "markdown",
   "metadata": {},
   "source": [
    "## Setup optimizer\n",
    "We then need to set-up the optimizer. As **they are currently the only heuristic that support qualitative variable**, we will use genetic algorithms, with single point crossovers and a tournament pick. The mutation rate is set to 0.3. We will have 5 initial data points, for a maximum of 20 iterations."
   ]
  },
  {
   "cell_type": "code",
   "execution_count": 5,
   "metadata": {},
   "outputs": [],
   "source": [
    "from bbo.optimizer import BBOptimizer\n",
    "from bbo.heuristics.genetic_algorithm.mutations import mutate_chromosome_to_neighbor\n",
    "from bbo.heuristics.genetic_algorithm.selections import tournament_pick \n",
    "from bbo.heuristics.genetic_algorithm.crossover import single_point_crossover"
   ]
  },
  {
   "cell_type": "code",
   "execution_count": 6,
   "metadata": {},
   "outputs": [],
   "source": [
    "svm_model = OptimizableSVM()\n",
    "svm_bb = BBOptimizer(black_box = svm_model, # the black-box to optimize\n",
    "                     parameter_space = svm_parametric_grid, # the grid on which to perform the optimization\n",
    "                     initial_sample_size=10,# the initial size of the sample\n",
    "                     heuristic=\"genetic_algorithm\", # the name of the heuristics to use\n",
    "                     max_iteration=20, # the maximum number of iterations\n",
    "                     time_out=200, # in seconds, the maximum elapsed time\n",
    "                     # the following arguments are specific to genetic algorithms:\n",
    "                     mutation_method= mutate_chromosome_to_neighbor, # the mutation function\n",
    "                     mutation_rate=0.3,#the mutation rate\n",
    "                     crossover_method=single_point_crossover, # the crossover function\n",
    "                     selection_method=tournament_pick # the selection function\n",
    "                     ) "
   ]
  },
  {
   "cell_type": "code",
   "execution_count": 7,
   "metadata": {
    "scrolled": false
   },
   "outputs": [
    {
     "name": "stderr",
     "output_type": "stream",
     "text": [
      "2020-11-07 21:34:09.779 | DEBUG    | bbo.optimizer:_initialize:487 - Initializing parameter space\n",
      "2020-11-07 21:34:09.791 | DEBUG    | bbo.optimizer:_initialize:488 - Parameter space given by user: [array([ 1,  2,  3,  4,  5,  6,  7,  8,  9, 10, 11, 12, 13, 14, 15, 16, 17,\n",
      "       18, 19, 20, 21, 22, 23, 24, 25, 26, 27, 28, 29, 30, 31, 32, 33, 34,\n",
      "       35, 36, 37, 38, 39, 40, 41, 42, 43, 44, 45, 46, 47, 48, 49, 50, 51,\n",
      "       52, 53, 54, 55, 56, 57, 58, 59, 60, 61, 62, 63, 64, 65, 66, 67, 68,\n",
      "       69, 70, 71, 72, 73, 74, 75, 76, 77, 78, 79, 80, 81, 82, 83, 84, 85,\n",
      "       86, 87, 88, 89, 90, 91, 92, 93, 94, 95, 96, 97, 98, 99])\n",
      " array(['linear', 'poly', 'rbf', 'sigmoid'], dtype='<U7') array([1, 2, 3])\n",
      " array(['scale', 'auto'], dtype='<U5')\n",
      " array([0.  , 0.01, 0.02, 0.03, 0.04, 0.05, 0.06, 0.07, 0.08, 0.09, 0.1 ,\n",
      "       0.11, 0.12, 0.13, 0.14, 0.15, 0.16, 0.17, 0.18, 0.19, 0.2 , 0.21,\n",
      "       0.22, 0.23, 0.24, 0.25, 0.26, 0.27, 0.28, 0.29, 0.3 , 0.31, 0.32,\n",
      "       0.33, 0.34, 0.35, 0.36, 0.37, 0.38, 0.39, 0.4 , 0.41, 0.42, 0.43,\n",
      "       0.44, 0.45, 0.46, 0.47, 0.48, 0.49, 0.5 , 0.51, 0.52, 0.53, 0.54,\n",
      "       0.55, 0.56, 0.57, 0.58, 0.59, 0.6 , 0.61, 0.62, 0.63, 0.64, 0.65,\n",
      "       0.66, 0.67, 0.68, 0.69, 0.7 , 0.71, 0.72, 0.73, 0.74, 0.75, 0.76,\n",
      "       0.77, 0.78, 0.79, 0.8 , 0.81, 0.82, 0.83, 0.84, 0.85, 0.86, 0.87,\n",
      "       0.88, 0.89, 0.9 , 0.91, 0.92, 0.93, 0.94, 0.95, 0.96, 0.97, 0.98,\n",
      "       0.99])\n",
      " array([ True, False]) array([ True, False])\n",
      " array([0.01, 0.02, 0.03, 0.04, 0.05, 0.06, 0.07, 0.08, 0.09])]\n",
      "2020-11-07 21:34:09.794 | DEBUG    | bbo.initial_parametrizations:hybrid_lhs_uniform_sampling:106 - Selected number of initial parameters: 10\n",
      "2020-11-07 21:34:09.799 | DEBUG    | bbo.optimizer:_initialize:494 - Selected initial parameter space: {initial_parameters}\n",
      "2020-11-07 21:34:09.801 | DEBUG    | bbo.optimizer:_optimization_step:473 - Evaluating performance of parametrization [19 'sigmoid' 1 'auto' 0.84 False True 0.04]\n",
      "2020-11-07 21:34:09.854 | DEBUG    | bbo.optimizer:_optimization_step:476 - Corresponding performance: -0.6436170212765957\n",
      "2020-11-07 21:34:09.858 | DEBUG    | bbo.optimizer:_optimization_step:473 - Evaluating performance of parametrization [54 'linear' 3 'scale' 0.9400000000000001 True False 0.060000000000000005]\n",
      "2020-11-07 21:34:12.440 | DEBUG    | bbo.optimizer:_optimization_step:476 - Corresponding performance: -0.9468085106382979\n",
      "2020-11-07 21:34:12.440 | DEBUG    | bbo.optimizer:_optimization_step:473 - Evaluating performance of parametrization ['29' 'poly' '2' 'auto' '0.76' 'False' 'False' '0.060000000000000005']\n"
     ]
    },
    {
     "ename": "KeyboardInterrupt",
     "evalue": "",
     "output_type": "error",
     "traceback": [
      "\u001b[1;31m---------------------------------------------------------------------------\u001b[0m",
      "\u001b[1;31mKeyboardInterrupt\u001b[0m                         Traceback (most recent call last)",
      "\u001b[1;32m<ipython-input-7-35f76a0d12aa>\u001b[0m in \u001b[0;36m<module>\u001b[1;34m\u001b[0m\n\u001b[1;32m----> 1\u001b[1;33m \u001b[0msvm_bb\u001b[0m\u001b[1;33m.\u001b[0m\u001b[0moptimize\u001b[0m\u001b[1;33m(\u001b[0m\u001b[1;33m)\u001b[0m\u001b[1;33m\u001b[0m\u001b[1;33m\u001b[0m\u001b[0m\n\u001b[0m",
      "\u001b[1;32mc:\\users\\a700487\\documents\\shaman_project\\shaman_project\\bbo\\optimizer.py\u001b[0m in \u001b[0;36moptimize\u001b[1;34m(self, callbacks)\u001b[0m\n\u001b[0;32m    644\u001b[0m         \u001b[0mchronometer_start\u001b[0m \u001b[1;33m=\u001b[0m \u001b[0mtime\u001b[0m\u001b[1;33m.\u001b[0m\u001b[0mtime\u001b[0m\u001b[1;33m(\u001b[0m\u001b[1;33m)\u001b[0m\u001b[1;33m\u001b[0m\u001b[1;33m\u001b[0m\u001b[0m\n\u001b[0;32m    645\u001b[0m         \u001b[1;31m# Perform initialization\u001b[0m\u001b[1;33m\u001b[0m\u001b[1;33m\u001b[0m\u001b[1;33m\u001b[0m\u001b[0m\n\u001b[1;32m--> 646\u001b[1;33m         \u001b[0mself\u001b[0m\u001b[1;33m.\u001b[0m\u001b[0m_initialize\u001b[0m\u001b[1;33m(\u001b[0m\u001b[0mcallbacks\u001b[0m\u001b[1;33m)\u001b[0m\u001b[1;33m\u001b[0m\u001b[1;33m\u001b[0m\u001b[0m\n\u001b[0m\u001b[0;32m    647\u001b[0m         \u001b[1;31m# Store last parameter in current_parameters variable\u001b[0m\u001b[1;33m\u001b[0m\u001b[1;33m\u001b[0m\u001b[1;33m\u001b[0m\u001b[0m\n\u001b[0;32m    648\u001b[0m         \u001b[0mcurrent_parameters\u001b[0m\u001b[1;33m,\u001b[0m \u001b[0m_\u001b[0m \u001b[1;33m=\u001b[0m \u001b[0mself\u001b[0m\u001b[1;33m.\u001b[0m\u001b[0m_get_best_performance\u001b[0m\u001b[1;33m(\u001b[0m\u001b[1;33m)\u001b[0m\u001b[1;33m\u001b[0m\u001b[1;33m\u001b[0m\u001b[0m\n",
      "\u001b[1;32mc:\\users\\a700487\\documents\\shaman_project\\shaman_project\\bbo\\optimizer.py\u001b[0m in \u001b[0;36m_initialize\u001b[1;34m(self, callbacks)\u001b[0m\n\u001b[0;32m    496\u001b[0m         \u001b[1;32mwhile\u001b[0m \u001b[0mstep\u001b[0m \u001b[1;33m<\u001b[0m \u001b[0mself\u001b[0m\u001b[1;33m.\u001b[0m\u001b[0minitial_sample_size\u001b[0m\u001b[1;33m:\u001b[0m\u001b[1;33m\u001b[0m\u001b[1;33m\u001b[0m\u001b[0m\n\u001b[0;32m    497\u001b[0m             \u001b[1;31m# Perform optimization step using the initial parametrization\u001b[0m\u001b[1;33m\u001b[0m\u001b[1;33m\u001b[0m\u001b[1;33m\u001b[0m\u001b[0m\n\u001b[1;32m--> 498\u001b[1;33m             \u001b[0mself\u001b[0m\u001b[1;33m.\u001b[0m\u001b[0m_optimization_step\u001b[0m\u001b[1;33m(\u001b[0m\u001b[0mparameter\u001b[0m\u001b[1;33m=\u001b[0m\u001b[0minitial_parameters\u001b[0m\u001b[1;33m[\u001b[0m\u001b[0mstep\u001b[0m\u001b[1;33m]\u001b[0m\u001b[1;33m)\u001b[0m\u001b[1;33m\u001b[0m\u001b[1;33m\u001b[0m\u001b[0m\n\u001b[0m\u001b[0;32m    499\u001b[0m             \u001b[1;31m# store as non resampled\u001b[0m\u001b[1;33m\u001b[0m\u001b[1;33m\u001b[0m\u001b[1;33m\u001b[0m\u001b[0m\n\u001b[0;32m    500\u001b[0m             \u001b[0mself\u001b[0m\u001b[1;33m.\u001b[0m\u001b[0m_append_resampled\u001b[0m\u001b[1;33m(\u001b[0m\u001b[1;32mFalse\u001b[0m\u001b[1;33m)\u001b[0m\u001b[1;33m\u001b[0m\u001b[1;33m\u001b[0m\u001b[0m\n",
      "\u001b[1;32mc:\\users\\a700487\\documents\\shaman_project\\shaman_project\\bbo\\optimizer.py\u001b[0m in \u001b[0;36m_optimization_step\u001b[1;34m(self, parameter)\u001b[0m\n\u001b[0;32m    473\u001b[0m         \u001b[0mlogger\u001b[0m\u001b[1;33m.\u001b[0m\u001b[0mdebug\u001b[0m\u001b[1;33m(\u001b[0m\u001b[1;34mf\"Evaluating performance of parametrization {parameter}\"\u001b[0m\u001b[1;33m)\u001b[0m\u001b[1;33m\u001b[0m\u001b[1;33m\u001b[0m\u001b[0m\n\u001b[0;32m    474\u001b[0m         \u001b[1;31m# evaluate the value of the newly selected parameters\u001b[0m\u001b[1;33m\u001b[0m\u001b[1;33m\u001b[0m\u001b[1;33m\u001b[0m\u001b[0m\n\u001b[1;32m--> 475\u001b[1;33m         \u001b[0mperf\u001b[0m \u001b[1;33m=\u001b[0m \u001b[0mself\u001b[0m\u001b[1;33m.\u001b[0m\u001b[0mcompute_result\u001b[0m\u001b[1;33m(\u001b[0m\u001b[0mparameter\u001b[0m\u001b[1;33m)\u001b[0m\u001b[1;33m\u001b[0m\u001b[1;33m\u001b[0m\u001b[0m\n\u001b[0m\u001b[0;32m    476\u001b[0m         \u001b[0mlogger\u001b[0m\u001b[1;33m.\u001b[0m\u001b[0mdebug\u001b[0m\u001b[1;33m(\u001b[0m\u001b[1;34mf\"Corresponding performance: {perf}\"\u001b[0m\u001b[1;33m)\u001b[0m\u001b[1;33m\u001b[0m\u001b[1;33m\u001b[0m\u001b[0m\n\u001b[0;32m    477\u001b[0m         \u001b[1;31m# store the new parameters\u001b[0m\u001b[1;33m\u001b[0m\u001b[1;33m\u001b[0m\u001b[1;33m\u001b[0m\u001b[0m\n",
      "\u001b[1;32m<ipython-input-3-0a3b1bcf58e3>\u001b[0m in \u001b[0;36mcompute\u001b[1;34m(self, parameters)\u001b[0m\n\u001b[0;32m      9\u001b[0m         \u001b[0mparameters_dict\u001b[0m \u001b[1;33m=\u001b[0m \u001b[1;33m{\u001b[0m\u001b[1;34m\"C\"\u001b[0m\u001b[1;33m:\u001b[0m \u001b[0mfloat\u001b[0m\u001b[1;33m(\u001b[0m\u001b[0mparameters\u001b[0m\u001b[1;33m[\u001b[0m\u001b[1;36m0\u001b[0m\u001b[1;33m]\u001b[0m\u001b[1;33m)\u001b[0m\u001b[1;33m,\u001b[0m \u001b[1;34m\"kernel\"\u001b[0m\u001b[1;33m:\u001b[0m \u001b[0mstr\u001b[0m\u001b[1;33m(\u001b[0m\u001b[0mparameters\u001b[0m\u001b[1;33m[\u001b[0m\u001b[1;36m1\u001b[0m\u001b[1;33m]\u001b[0m\u001b[1;33m)\u001b[0m\u001b[1;33m,\u001b[0m \u001b[1;34m\"degree\"\u001b[0m\u001b[1;33m:\u001b[0m \u001b[0mint\u001b[0m\u001b[1;33m(\u001b[0m\u001b[0mparameters\u001b[0m\u001b[1;33m[\u001b[0m\u001b[1;36m2\u001b[0m\u001b[1;33m]\u001b[0m\u001b[1;33m)\u001b[0m\u001b[1;33m,\u001b[0m \u001b[1;34m\"gamma\"\u001b[0m\u001b[1;33m:\u001b[0m \u001b[0mstr\u001b[0m\u001b[1;33m(\u001b[0m\u001b[0mparameters\u001b[0m\u001b[1;33m[\u001b[0m\u001b[1;36m3\u001b[0m\u001b[1;33m]\u001b[0m\u001b[1;33m)\u001b[0m\u001b[1;33m,\u001b[0m \u001b[1;34m\"coef0\"\u001b[0m\u001b[1;33m:\u001b[0m \u001b[0mfloat\u001b[0m\u001b[1;33m(\u001b[0m\u001b[0mparameters\u001b[0m\u001b[1;33m[\u001b[0m\u001b[1;36m4\u001b[0m\u001b[1;33m]\u001b[0m\u001b[1;33m)\u001b[0m\u001b[1;33m,\u001b[0m \u001b[1;34m\"shrinking\"\u001b[0m\u001b[1;33m:\u001b[0m \u001b[0mbool\u001b[0m\u001b[1;33m(\u001b[0m\u001b[0mparameters\u001b[0m\u001b[1;33m[\u001b[0m\u001b[1;36m5\u001b[0m\u001b[1;33m]\u001b[0m\u001b[1;33m)\u001b[0m\u001b[1;33m,\u001b[0m \u001b[1;34m\"probability\"\u001b[0m\u001b[1;33m:\u001b[0m \u001b[0mbool\u001b[0m\u001b[1;33m(\u001b[0m\u001b[0mparameters\u001b[0m\u001b[1;33m[\u001b[0m\u001b[1;36m6\u001b[0m\u001b[1;33m]\u001b[0m\u001b[1;33m)\u001b[0m\u001b[1;33m,\u001b[0m \u001b[1;34m\"tol\"\u001b[0m\u001b[1;33m:\u001b[0m \u001b[0mfloat\u001b[0m\u001b[1;33m(\u001b[0m\u001b[0mparameters\u001b[0m\u001b[1;33m[\u001b[0m\u001b[1;36m7\u001b[0m\u001b[1;33m]\u001b[0m\u001b[1;33m)\u001b[0m\u001b[1;33m}\u001b[0m\u001b[1;33m\u001b[0m\u001b[1;33m\u001b[0m\u001b[0m\n\u001b[0;32m     10\u001b[0m         \u001b[0msvc\u001b[0m \u001b[1;33m=\u001b[0m \u001b[0mSVC\u001b[0m\u001b[1;33m(\u001b[0m\u001b[1;33m**\u001b[0m\u001b[0mparameters_dict\u001b[0m\u001b[1;33m)\u001b[0m\u001b[1;33m\u001b[0m\u001b[1;33m\u001b[0m\u001b[0m\n\u001b[1;32m---> 11\u001b[1;33m         \u001b[0msvc\u001b[0m\u001b[1;33m.\u001b[0m\u001b[0mfit\u001b[0m\u001b[1;33m(\u001b[0m\u001b[0mX_train\u001b[0m\u001b[1;33m,\u001b[0m \u001b[0my_train\u001b[0m\u001b[1;33m)\u001b[0m\u001b[1;33m\u001b[0m\u001b[1;33m\u001b[0m\u001b[0m\n\u001b[0m\u001b[0;32m     12\u001b[0m         \u001b[1;32mreturn\u001b[0m \u001b[1;33m-\u001b[0m\u001b[0msvc\u001b[0m\u001b[1;33m.\u001b[0m\u001b[0mscore\u001b[0m\u001b[1;33m(\u001b[0m\u001b[0mX_test\u001b[0m\u001b[1;33m,\u001b[0m \u001b[0my_test\u001b[0m\u001b[1;33m)\u001b[0m\u001b[1;33m\u001b[0m\u001b[1;33m\u001b[0m\u001b[0m\n\u001b[0;32m     13\u001b[0m \u001b[1;33m\u001b[0m\u001b[0m\n",
      "\u001b[1;32m~\\Documents\\shaman_project\\.venv\\lib\\site-packages\\sklearn\\svm\\_base.py\u001b[0m in \u001b[0;36mfit\u001b[1;34m(self, X, y, sample_weight)\u001b[0m\n\u001b[0;32m    215\u001b[0m \u001b[1;33m\u001b[0m\u001b[0m\n\u001b[0;32m    216\u001b[0m         \u001b[0mseed\u001b[0m \u001b[1;33m=\u001b[0m \u001b[0mrnd\u001b[0m\u001b[1;33m.\u001b[0m\u001b[0mrandint\u001b[0m\u001b[1;33m(\u001b[0m\u001b[0mnp\u001b[0m\u001b[1;33m.\u001b[0m\u001b[0miinfo\u001b[0m\u001b[1;33m(\u001b[0m\u001b[1;34m'i'\u001b[0m\u001b[1;33m)\u001b[0m\u001b[1;33m.\u001b[0m\u001b[0mmax\u001b[0m\u001b[1;33m)\u001b[0m\u001b[1;33m\u001b[0m\u001b[1;33m\u001b[0m\u001b[0m\n\u001b[1;32m--> 217\u001b[1;33m         \u001b[0mfit\u001b[0m\u001b[1;33m(\u001b[0m\u001b[0mX\u001b[0m\u001b[1;33m,\u001b[0m \u001b[0my\u001b[0m\u001b[1;33m,\u001b[0m \u001b[0msample_weight\u001b[0m\u001b[1;33m,\u001b[0m \u001b[0msolver_type\u001b[0m\u001b[1;33m,\u001b[0m \u001b[0mkernel\u001b[0m\u001b[1;33m,\u001b[0m \u001b[0mrandom_seed\u001b[0m\u001b[1;33m=\u001b[0m\u001b[0mseed\u001b[0m\u001b[1;33m)\u001b[0m\u001b[1;33m\u001b[0m\u001b[1;33m\u001b[0m\u001b[0m\n\u001b[0m\u001b[0;32m    218\u001b[0m         \u001b[1;31m# see comment on the other call to np.iinfo in this file\u001b[0m\u001b[1;33m\u001b[0m\u001b[1;33m\u001b[0m\u001b[1;33m\u001b[0m\u001b[0m\n\u001b[0;32m    219\u001b[0m \u001b[1;33m\u001b[0m\u001b[0m\n",
      "\u001b[1;32m~\\Documents\\shaman_project\\.venv\\lib\\site-packages\\sklearn\\svm\\_base.py\u001b[0m in \u001b[0;36m_dense_fit\u001b[1;34m(self, X, y, sample_weight, solver_type, kernel, random_seed)\u001b[0m\n\u001b[0;32m    266\u001b[0m         \u001b[0mself\u001b[0m\u001b[1;33m.\u001b[0m\u001b[0msupport_\u001b[0m\u001b[1;33m,\u001b[0m \u001b[0mself\u001b[0m\u001b[1;33m.\u001b[0m\u001b[0msupport_vectors_\u001b[0m\u001b[1;33m,\u001b[0m \u001b[0mself\u001b[0m\u001b[1;33m.\u001b[0m\u001b[0m_n_support\u001b[0m\u001b[1;33m,\u001b[0m\u001b[0;31m \u001b[0m\u001b[0;31m\\\u001b[0m\u001b[1;33m\u001b[0m\u001b[1;33m\u001b[0m\u001b[0m\n\u001b[0;32m    267\u001b[0m             \u001b[0mself\u001b[0m\u001b[1;33m.\u001b[0m\u001b[0mdual_coef_\u001b[0m\u001b[1;33m,\u001b[0m \u001b[0mself\u001b[0m\u001b[1;33m.\u001b[0m\u001b[0mintercept_\u001b[0m\u001b[1;33m,\u001b[0m \u001b[0mself\u001b[0m\u001b[1;33m.\u001b[0m\u001b[0m_probA\u001b[0m\u001b[1;33m,\u001b[0m\u001b[0;31m \u001b[0m\u001b[0;31m\\\u001b[0m\u001b[1;33m\u001b[0m\u001b[1;33m\u001b[0m\u001b[0m\n\u001b[1;32m--> 268\u001b[1;33m             self._probB, self.fit_status_ = libsvm.fit(\n\u001b[0m\u001b[0;32m    269\u001b[0m                 \u001b[0mX\u001b[0m\u001b[1;33m,\u001b[0m \u001b[0my\u001b[0m\u001b[1;33m,\u001b[0m\u001b[1;33m\u001b[0m\u001b[1;33m\u001b[0m\u001b[0m\n\u001b[0;32m    270\u001b[0m                 \u001b[0msvm_type\u001b[0m\u001b[1;33m=\u001b[0m\u001b[0msolver_type\u001b[0m\u001b[1;33m,\u001b[0m \u001b[0msample_weight\u001b[0m\u001b[1;33m=\u001b[0m\u001b[0msample_weight\u001b[0m\u001b[1;33m,\u001b[0m\u001b[1;33m\u001b[0m\u001b[1;33m\u001b[0m\u001b[0m\n",
      "\u001b[1;31mKeyboardInterrupt\u001b[0m: "
     ]
    }
   ],
   "source": [
    "svm_bb.optimize()"
   ]
  },
  {
   "cell_type": "code",
   "execution_count": 8,
   "metadata": {},
   "outputs": [],
   "source": [
    "rf_model = OptimizableRandomForest()\n",
    "rf_bb = BBOptimizer(black_box = rf_model, # the black-box to optimize\n",
    "                     parameter_space = rf_parametric_grid, # the grid on which to perform the optimization\n",
    "                     initial_sample_size=10,# the initial size of the sample\n",
    "                     heuristic=\"genetic_algorithm\", # the name of the heuristics to use\n",
    "                     max_iteration=20, # the maximum number of iterations\n",
    "                     time_out=200, # in seconds, the maximum elapsed time\n",
    "                     # the following arguments are specific to genetic algorithms:\n",
    "                     mutation_method= mutate_chromosome_to_neighbor, # the mutation function\n",
    "                     mutation_rate=0.3,#the mutation rate\n",
    "                     crossover_method=single_point_crossover, # the crossover function\n",
    "                     selection_method=tournament_pick # the selection function\n",
    "                     ) "
   ]
  },
  {
   "cell_type": "code",
   "execution_count": 9,
   "metadata": {},
   "outputs": [
    {
     "name": "stderr",
     "output_type": "stream",
     "text": [
      "2020-11-07 21:49:48.441 | DEBUG    | bbo.optimizer:_initialize:487 - Initializing parameter space\n",
      "2020-11-07 21:49:48.445 | DEBUG    | bbo.optimizer:_initialize:488 - Parameter space given by user: [array([ 50,  70,  90, 110, 130, 150, 170, 190])\n",
      " array(['gini', 'entropy'], dtype='<U7') array([5, 6, 7, 8, 9])\n",
      " array([2, 3, 4, 5, 6, 7, 8, 9]) array([0. , 0.1, 0.2, 0.3])\n",
      " array(['auto', 'sqrt', 'log2'], dtype='<U4')]\n",
      "2020-11-07 21:49:48.447 | DEBUG    | bbo.initial_parametrizations:hybrid_lhs_uniform_sampling:106 - Selected number of initial parameters: 10\n",
      "2020-11-07 21:49:48.451 | DEBUG    | bbo.optimizer:_initialize:494 - Selected initial parameter space: {initial_parameters}\n",
      "2020-11-07 21:49:48.453 | DEBUG    | bbo.optimizer:_optimization_step:473 - Evaluating performance of parametrization [90 'entropy' 8 4 0.1 'log2']\n",
      "2020-11-07 21:49:48.797 | DEBUG    | bbo.optimizer:_optimization_step:476 - Corresponding performance: -0.9521276595744681\n",
      "2020-11-07 21:49:48.815 | DEBUG    | bbo.optimizer:_optimization_step:473 - Evaluating performance of parametrization [70 'gini' 9 7 0.0 'auto']\n",
      "2020-11-07 21:49:48.992 | DEBUG    | bbo.optimizer:_optimization_step:476 - Corresponding performance: -0.9574468085106383\n",
      "2020-11-07 21:49:48.994 | DEBUG    | bbo.optimizer:_optimization_step:473 - Evaluating performance of parametrization ['170' 'gini' '7' '7' '0.1' 'sqrt']\n",
      "2020-11-07 21:49:49.444 | DEBUG    | bbo.optimizer:_optimization_step:476 - Corresponding performance: -0.9627659574468085\n",
      "2020-11-07 21:49:49.445 | DEBUG    | bbo.optimizer:_optimization_step:473 - Evaluating performance of parametrization ['50' 'gini' '7' '6' '0.2' 'auto']\n",
      "2020-11-07 21:49:49.569 | DEBUG    | bbo.optimizer:_optimization_step:476 - Corresponding performance: -0.9574468085106383\n",
      "2020-11-07 21:49:49.570 | DEBUG    | bbo.optimizer:_optimization_step:473 - Evaluating performance of parametrization ['50' 'gini' '6' '9' '0.2' 'auto']\n",
      "2020-11-07 21:49:49.685 | DEBUG    | bbo.optimizer:_optimization_step:476 - Corresponding performance: -0.9574468085106383\n",
      "2020-11-07 21:49:49.686 | DEBUG    | bbo.optimizer:_optimization_step:473 - Evaluating performance of parametrization ['190' 'entropy' '7' '7' '0.1' 'log2']\n",
      "2020-11-07 21:49:50.128 | DEBUG    | bbo.optimizer:_optimization_step:476 - Corresponding performance: -0.9521276595744681\n",
      "2020-11-07 21:49:50.130 | DEBUG    | bbo.optimizer:_optimization_step:473 - Evaluating performance of parametrization ['90' 'entropy' '8' '6' '0.1' 'log2']\n",
      "2020-11-07 21:49:50.379 | DEBUG    | bbo.optimizer:_optimization_step:476 - Corresponding performance: -0.9468085106382979\n",
      "2020-11-07 21:49:50.381 | DEBUG    | bbo.optimizer:_optimization_step:473 - Evaluating performance of parametrization ['190' 'gini' '9' '3' '0.2' 'sqrt']\n",
      "2020-11-07 21:49:50.797 | DEBUG    | bbo.optimizer:_optimization_step:476 - Corresponding performance: -0.9627659574468085\n",
      "2020-11-07 21:49:50.797 | DEBUG    | bbo.optimizer:_optimization_step:473 - Evaluating performance of parametrization ['90' 'entropy' '6' '7' '0.0' 'log2']\n",
      "2020-11-07 21:49:51.064 | DEBUG    | bbo.optimizer:_optimization_step:476 - Corresponding performance: -0.9574468085106383\n",
      "2020-11-07 21:49:51.066 | DEBUG    | bbo.optimizer:_optimization_step:473 - Evaluating performance of parametrization ['150' 'entropy' '6' '4' '0.1' 'auto']\n",
      "2020-11-07 21:49:51.471 | DEBUG    | bbo.optimizer:_optimization_step:476 - Corresponding performance: -0.9574468085106383\n",
      "2020-11-07 21:49:51.473 | DEBUG    | bbo.optimizer:_optimization_step:473 - Evaluating performance of parametrization ['190' 'gini' '7' '7' '0.1' 'sqrt']\n",
      "2020-11-07 21:49:51.847 | DEBUG    | bbo.optimizer:_optimization_step:476 - Corresponding performance: -0.9521276595744681\n",
      "2020-11-07 21:49:51.847 | DEBUG    | bbo.optimizer:_optimization_step:473 - Evaluating performance of parametrization ['170' 'gini' '7' '3' '0.2' 'sqrt']\n",
      "2020-11-07 21:49:52.294 | DEBUG    | bbo.optimizer:_optimization_step:476 - Corresponding performance: -0.9574468085106383\n",
      "2020-11-07 21:49:52.297 | DEBUG    | bbo.optimizer:_optimization_step:473 - Evaluating performance of parametrization ['190' 'gini' '7' '7' '0.1' 'sqrt']\n",
      "2020-11-07 21:49:52.785 | DEBUG    | bbo.optimizer:_optimization_step:476 - Corresponding performance: -0.9627659574468085\n",
      "2020-11-07 21:49:52.787 | DEBUG    | bbo.optimizer:_optimization_step:473 - Evaluating performance of parametrization ['190' 'gini' '9' '3' '0.1' 'sqrt']\n",
      "2020-11-07 21:49:53.674 | DEBUG    | bbo.optimizer:_optimization_step:476 - Corresponding performance: -0.9521276595744681\n",
      "2020-11-07 21:49:53.679 | DEBUG    | bbo.optimizer:_optimization_step:473 - Evaluating performance of parametrization ['170' 'gini' '7' '8' '0.1' 'sqrt']\n",
      "2020-11-07 21:49:54.184 | DEBUG    | bbo.optimizer:_optimization_step:476 - Corresponding performance: -0.9574468085106383\n",
      "2020-11-07 21:49:54.188 | DEBUG    | bbo.optimizer:_optimization_step:473 - Evaluating performance of parametrization ['170' 'gini' '7' '4' '0.1' 'auto']\n",
      "2020-11-07 21:49:54.626 | DEBUG    | bbo.optimizer:_optimization_step:476 - Corresponding performance: -0.9574468085106383\n",
      "2020-11-07 21:49:54.628 | DEBUG    | bbo.optimizer:_optimization_step:473 - Evaluating performance of parametrization ['170' 'gini' '7' '4' '0.1' 'sqrt']\n",
      "2020-11-07 21:49:54.979 | DEBUG    | bbo.optimizer:_optimization_step:476 - Corresponding performance: -0.9574468085106383\n",
      "2020-11-07 21:49:54.981 | DEBUG    | bbo.optimizer:_optimization_step:473 - Evaluating performance of parametrization ['190' 'gini' '9' '3' '0.1' 'sqrt']\n",
      "2020-11-07 21:49:55.437 | DEBUG    | bbo.optimizer:_optimization_step:476 - Corresponding performance: -0.9627659574468085\n",
      "2020-11-07 21:49:55.440 | DEBUG    | bbo.optimizer:_optimization_step:473 - Evaluating performance of parametrization ['190' 'gini' '7' '7' '0.1' 'sqrt']\n",
      "2020-11-07 21:49:55.897 | DEBUG    | bbo.optimizer:_optimization_step:476 - Corresponding performance: -0.9521276595744681\n",
      "2020-11-07 21:49:55.897 | DEBUG    | bbo.optimizer:_optimization_step:473 - Evaluating performance of parametrization ['190' 'gini' '9' '2' '0.2' 'auto']\n",
      "2020-11-07 21:49:56.293 | DEBUG    | bbo.optimizer:_optimization_step:476 - Corresponding performance: -0.9414893617021277\n",
      "2020-11-07 21:49:56.295 | DEBUG    | bbo.optimizer:_optimization_step:473 - Evaluating performance of parametrization ['190' 'gini' '7' '7' '0.1' 'sqrt']\n",
      "2020-11-07 21:49:56.726 | DEBUG    | bbo.optimizer:_optimization_step:476 - Corresponding performance: -0.9468085106382979\n",
      "2020-11-07 21:49:56.728 | DEBUG    | bbo.optimizer:_optimization_step:473 - Evaluating performance of parametrization ['190' 'gini' '8' '3' '0.2' 'auto']\n",
      "2020-11-07 21:49:57.183 | DEBUG    | bbo.optimizer:_optimization_step:476 - Corresponding performance: -0.9574468085106383\n",
      "2020-11-07 21:49:57.185 | DEBUG    | bbo.optimizer:_optimization_step:473 - Evaluating performance of parametrization ['170' 'gini' '6' '9' '0.2' 'auto']\n",
      "2020-11-07 21:49:57.596 | DEBUG    | bbo.optimizer:_optimization_step:476 - Corresponding performance: -0.9521276595744681\n",
      "2020-11-07 21:49:57.597 | DEBUG    | bbo.optimizer:_optimization_step:473 - Evaluating performance of parametrization ['190' 'gini' '8' '8' '0.0' 'sqrt']\n",
      "2020-11-07 21:49:58.297 | DEBUG    | bbo.optimizer:_optimization_step:476 - Corresponding performance: -0.9627659574468085\n",
      "2020-11-07 21:49:58.315 | DEBUG    | bbo.optimizer:_optimization_step:473 - Evaluating performance of parametrization ['190' 'entropy' '6' '4' '0.1' 'auto']\n",
      "2020-11-07 21:49:59.085 | DEBUG    | bbo.optimizer:_optimization_step:476 - Corresponding performance: -0.9627659574468085\n",
      "2020-11-07 21:49:59.088 | DEBUG    | bbo.optimizer:_optimization_step:473 - Evaluating performance of parametrization ['190' 'entropy' '6' '8' '0.0' 'sqrt']\n",
      "2020-11-07 21:49:59.646 | DEBUG    | bbo.optimizer:_optimization_step:476 - Corresponding performance: -0.9574468085106383\n",
      "2020-11-07 21:49:59.646 | DEBUG    | bbo.optimizer:_optimization_step:473 - Evaluating performance of parametrization ['190' 'entropy' '7' '7' '0.1' 'sqrt']\n",
      "2020-11-07 21:50:00.167 | DEBUG    | bbo.optimizer:_optimization_step:476 - Corresponding performance: -0.9521276595744681\n",
      "2020-11-07 21:50:00.170 | DEBUG    | bbo.optimizer:_optimization_step:473 - Evaluating performance of parametrization ['190' 'gini' '8' '7' '0.1' 'sqrt']\n"
     ]
    },
    {
     "name": "stderr",
     "output_type": "stream",
     "text": [
      "2020-11-07 21:50:00.668 | DEBUG    | bbo.optimizer:_optimization_step:476 - Corresponding performance: -0.9574468085106383\n",
      "2020-11-07 21:50:00.671 | DEBUG    | bbo.optimizer:_optimization_step:473 - Evaluating performance of parametrization ['190' 'gini' '9' '3' '0.1' 'auto']\n",
      "2020-11-07 21:50:01.130 | DEBUG    | bbo.optimizer:_optimization_step:476 - Corresponding performance: -0.9574468085106383\n",
      "2020-11-07 21:50:01.134 | DEBUG    | bbo.optimizer:_optimization_step:473 - Evaluating performance of parametrization ['170' 'gini' '9' '2' '0.2' 'sqrt']\n",
      "2020-11-07 21:50:01.447 | DEBUG    | bbo.optimizer:_optimization_step:476 - Corresponding performance: -0.9627659574468085\n"
     ]
    },
    {
     "data": {
      "text/plain": [
       "array(['170', 'gini', '9', '2', '0.2', 'sqrt'], dtype=object)"
      ]
     },
     "execution_count": 9,
     "metadata": {},
     "output_type": "execute_result"
    }
   ],
   "source": [
    "rf_bb.optimize()"
   ]
  },
  {
   "cell_type": "markdown",
   "metadata": {},
   "source": [
    "## Read results\n",
    "\n",
    "The results of the optimization can be read using the `summary` method on each object. The fitness (*i.e.* the accuracy as a function of the iteration step) can also be plotted to look at the convergence trajectory."
   ]
  },
  {
   "cell_type": "code",
   "execution_count": 10,
   "metadata": {},
   "outputs": [],
   "source": [
    "from matplotlib import pyplot as plt"
   ]
  },
  {
   "cell_type": "code",
   "execution_count": 11,
   "metadata": {},
   "outputs": [
    {
     "ename": "Exception",
     "evalue": "Black box has not been optimized yet.Please run the .optimize method before requesting a summary.",
     "output_type": "error",
     "traceback": [
      "\u001b[1;31m---------------------------------------------------------------------------\u001b[0m",
      "\u001b[1;31mException\u001b[0m                                 Traceback (most recent call last)",
      "\u001b[1;32m<ipython-input-11-4b202d836637>\u001b[0m in \u001b[0;36m<module>\u001b[1;34m\u001b[0m\n\u001b[1;32m----> 1\u001b[1;33m \u001b[0msvm_bb\u001b[0m\u001b[1;33m.\u001b[0m\u001b[0msummarize\u001b[0m\u001b[1;33m(\u001b[0m\u001b[1;33m)\u001b[0m\u001b[1;33m\u001b[0m\u001b[1;33m\u001b[0m\u001b[0m\n\u001b[0m",
      "\u001b[1;32mc:\\users\\a700487\\documents\\shaman_project\\shaman_project\\bbo\\optimizer.py\u001b[0m in \u001b[0;36msummarize\u001b[1;34m(self)\u001b[0m\n\u001b[0;32m    676\u001b[0m         \u001b[1;34m\"\"\"Prints the summary of the optimization loop.\"\"\"\u001b[0m\u001b[1;33m\u001b[0m\u001b[1;33m\u001b[0m\u001b[0m\n\u001b[0;32m    677\u001b[0m         \u001b[1;32mif\u001b[0m \u001b[1;32mnot\u001b[0m \u001b[0mself\u001b[0m\u001b[1;33m.\u001b[0m\u001b[0mlaunched\u001b[0m\u001b[1;33m:\u001b[0m\u001b[1;33m\u001b[0m\u001b[1;33m\u001b[0m\u001b[0m\n\u001b[1;32m--> 678\u001b[1;33m             raise Exception(\n\u001b[0m\u001b[0;32m    679\u001b[0m                 \u001b[1;34m\"Black box has not been optimized yet.\"\u001b[0m\u001b[1;33m\u001b[0m\u001b[1;33m\u001b[0m\u001b[0m\n\u001b[0;32m    680\u001b[0m                 \u001b[1;34m\"Please run the .optimize \"\u001b[0m\u001b[1;33m\u001b[0m\u001b[1;33m\u001b[0m\u001b[0m\n",
      "\u001b[1;31mException\u001b[0m: Black box has not been optimized yet.Please run the .optimize method before requesting a summary."
     ]
    }
   ],
   "source": [
    "svm_bb.summarize()"
   ]
  },
  {
   "cell_type": "code",
   "execution_count": 12,
   "metadata": {},
   "outputs": [
    {
     "data": {
      "text/plain": [
       "Text(0.5, 1.0, 'Accuracy as a function of the number of iterations for SVM model')"
      ]
     },
     "execution_count": 12,
     "metadata": {},
     "output_type": "execute_result"
    },
    {
     "data": {
      "image/png": "[encoded data removed]",
      "text/plain": [
       "<Figure size 432x288 with 1 Axes>"
      ]
     },
     "metadata": {
      "needs_background": "light"
     },
     "output_type": "display_data"
    }
   ],
   "source": [
    "plt.plot(-svm_bb.history[\"fitness\"])\n",
    "plt.title(\"Accuracy as a function of the number of iterations for SVM model\")"
   ]
  },
  {
   "cell_type": "code",
   "execution_count": 13,
   "metadata": {},
   "outputs": [
    {
     "name": "stdout",
     "output_type": "stream",
     "text": [
      "------ Optimization loop summary ------\n",
      "Number of iterations: 30\n",
      "Elapsed time: 13.005712747573853\n",
      "Best parameters: ['170' 'gini' '9' '2' '0.2' 'sqrt']\n",
      "Best fitness value: -0.9627659574468085\n",
      "Some statistics are yet unavailable for mixedtypes variables.\n",
      "--- Heuristic specific summary ---\n",
      "Number of mutations: 6\n",
      "Family tree:\n",
      "['190' 'gini' '9' '3' '0.2' 'sqrt'] + ['170' 'gini' '7' '7' '0.1' 'sqrt']\n",
      "|_> ['190' 'gini' '7' '7' '0.1' 'sqrt']\n",
      "['170' 'gini' '7' '7' '0.1' 'sqrt'] + ['190' 'gini' '9' '3' '0.2' 'sqrt']\n",
      "|_> ['170' 'gini' '7' '3' '0.2' 'sqrt']\n",
      "['190' 'gini' '9' '3' '0.2' 'sqrt'] + ['170' 'gini' '7' '7' '0.1' 'sqrt']\n",
      "|_> ['190' 'gini' '7' '7' '0.1' 'sqrt']\n",
      "['190' 'gini' '9' '3' '0.2' 'sqrt'] + ['190' 'gini' '7' '7' '0.1' 'sqrt']\n",
      "|_> ['190' 'gini' '9' '3' '0.1' 'sqrt']\n",
      "['170' 'gini' '7' '7' '0.1' 'sqrt'] + ['190' 'gini' '7' '7' '0.1' 'sqrt']\n",
      "|_> ['170' 'gini' '7' '8' '0.1' 'sqrt']\n",
      "['170' 'gini' '7' '7' '0.1' 'sqrt'] + ['190' 'gini' '9' '3' '0.2' 'sqrt']\n",
      "|_> ['170' 'gini' '7' '4' '0.1' 'auto']\n",
      "['170' 'gini' '7' '4' '0.1' 'auto'] + ['190' 'gini' '7' '7' '0.1' 'sqrt']\n",
      "|_> ['170' 'gini' '7' '4' '0.1' 'sqrt']\n",
      "['190' 'gini' '9' '3' '0.2' 'sqrt'] + ['190' 'gini' '7' '7' '0.1' 'sqrt']\n",
      "|_> ['190' 'gini' '9' '3' '0.1' 'sqrt']\n",
      "['190' 'gini' '9' '3' '0.1' 'sqrt'] + ['170' 'gini' '7' '7' '0.1' 'sqrt']\n",
      "|_> ['190' 'gini' '7' '7' '0.1' 'sqrt']\n",
      "['190' 'gini' '9' '3' '0.1' 'sqrt'] + ['190' 'gini' '9' '3' '0.2' 'sqrt']\n",
      "|_> ['190' 'gini' '9' '2' '0.2' 'auto']\n",
      "['190' 'gini' '9' '3' '0.1' 'sqrt'] + ['170' 'gini' '7' '7' '0.1' 'sqrt']\n",
      "|_> ['190' 'gini' '7' '7' '0.1' 'sqrt']\n",
      "['190' 'gini' '9' '3' '0.1' 'sqrt'] + ['190' 'gini' '9' '3' '0.2' 'sqrt']\n",
      "|_> ['190' 'gini' '8' '3' '0.2' 'auto']\n",
      "['170' 'gini' '7' '7' '0.1' 'sqrt'] + ['50' 'gini' '6' '9' '0.2' 'auto']\n",
      "|_> ['170' 'gini' '6' '9' '0.2' 'auto']\n",
      "['190' 'gini' '9' '3' '0.1' 'sqrt'] + ['190' 'gini' '7' '7' '0.1' 'sqrt']\n",
      "|_> ['190' 'gini' '8' '8' '0.0' 'sqrt']\n",
      "['190' 'gini' '7' '7' '0.1' 'sqrt'] + ['150' 'entropy' '6' '4' '0.1' 'auto']\n",
      "|_> ['190' 'entropy' '6' '4' '0.1' 'auto']\n",
      "['190' 'entropy' '6' '4' '0.1' 'auto'] + ['190' 'gini' '8' '8' '0.0' 'sqrt']\n",
      "|_> ['190' 'entropy' '6' '8' '0.0' 'sqrt']\n",
      "['190' 'entropy' '6' '4' '0.1' 'auto'] + ['170' 'gini' '7' '7' '0.1' 'sqrt']\n",
      "|_> ['190' 'entropy' '7' '7' '0.1' 'sqrt']\n",
      "['190' 'gini' '8' '8' '0.0' 'sqrt'] + ['190' 'gini' '7' '7' '0.1' 'sqrt']\n",
      "|_> ['190' 'gini' '8' '7' '0.1' 'sqrt']\n",
      "['190' 'gini' '9' '3' '0.2' 'sqrt'] + ['190' 'entropy' '6' '4' '0.1' 'auto']\n",
      "|_> ['190' 'gini' '9' '3' '0.1' 'auto']\n",
      "['190' 'gini' '9' '3' '0.1' 'sqrt'] + ['190' 'gini' '9' '3' '0.2' 'sqrt']\n",
      "|_> ['170' 'gini' '9' '2' '0.2' 'sqrt']\n",
      "['170' 'gini' '7' '7' '0.1' 'sqrt'] + ['190' 'gini' '9' '3' '0.1' 'sqrt']\n",
      "|_> ['170' 'gini' '7' '3' '0.1' 'sqrt']\n",
      "None\n"
     ]
    }
   ],
   "source": [
    "rf_bb.summarize()"
   ]
  },
  {
   "cell_type": "code",
   "execution_count": 14,
   "metadata": {},
   "outputs": [
    {
     "data": {
      "text/plain": [
       "Text(0.5, 1.0, 'Accuracy as a function of the number of iterations for Random Forest model')"
      ]
     },
     "execution_count": 14,
     "metadata": {},
     "output_type": "execute_result"
    },
    {
     "data": {
      "image/png": "[encoded data removed]",
      "text/plain": [
       "<Figure size 432x288 with 1 Axes>"
      ]
     },
     "metadata": {
      "needs_background": "light"
     },
     "output_type": "display_data"
    }
   ],
   "source": [
    "plt.plot(-rf_bb.history[\"fitness\"])\n",
    "plt.title(\"Accuracy as a function of the number of iterations for Random Forest model\")"
   ]
  }
 ],
 "metadata": {
  "hide_input": false,
  "kernelspec": {
   "display_name": "shaman_project",
   "language": "python",
   "name": "shaman_project"
  },
  "language_info": {
   "codemirror_mode": {
    "name": "ipython",
    "version": 3
   },
   "file_extension": ".py",
   "mimetype": "text/x-python",
   "name": "python",
   "nbconvert_exporter": "python",
   "pygments_lexer": "ipython3",
   "version": "3.8.2"
  },
  "toc": {
   "base_numbering": 1,
   "nav_menu": {},
   "number_sections": true,
   "sideBar": true,
   "skip_h1_title": false,
   "title_cell": "Table of Contents",
   "title_sidebar": "Contents",
   "toc_cell": false,
   "toc_position": {},
   "toc_section_display": true,
   "toc_window_display": false
  }
 },
 "nbformat": 4,
 "nbformat_minor": 4
}
